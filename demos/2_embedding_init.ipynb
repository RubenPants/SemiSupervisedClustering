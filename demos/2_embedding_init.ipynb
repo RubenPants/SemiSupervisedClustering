{
 "cells": [
  {
   "cell_type": "code",
   "execution_count": 1,
   "id": "contemporary-advice",
   "metadata": {},
   "outputs": [],
   "source": [
    "%load_ext autoreload\n",
    "%autoreload 2"
   ]
  },
  {
   "cell_type": "code",
   "execution_count": 2,
   "id": "authorized-butter",
   "metadata": {},
   "outputs": [
    {
     "name": "stdout",
     "output_type": "stream",
     "text": [
      "/Users/rubenbroekx/Documents/Projects/SemiSupervisedClustering\n"
     ]
    }
   ],
   "source": [
    "%cd .."
   ]
  },
  {
   "cell_type": "markdown",
   "id": "respected-recording",
   "metadata": {},
   "source": [
    "# Demo - Embedding Initialisation\n",
    "\n",
    "This demo is an extension on `1_default_usage.ipynb` and shows how you can initialise the model using pre-trained sentence embeddings. For this demo, we'll make use of Google's [universal-sentence-encoding-multilingual](https://tfhub.dev/google/universal-sentence-encoder-multilingual/3) model.\n",
    "\n",
    "The goal of this demo is to cluster Flemish universities to a suitable cluster, while discarding all other schools/universities."
   ]
  },
  {
   "cell_type": "code",
   "execution_count": 3,
   "id": "minimal-confidence",
   "metadata": {},
   "outputs": [],
   "source": [
    "import re\n",
    "import json\n",
    "import matplotlib.pyplot as plt\n",
    "import tensorflow as tf\n",
    "\n",
    "from pathlib import Path\n",
    "from collections import Counter\n",
    "from matplotlib.ticker import MaxNLocator\n",
    "\n",
    "from semi_supervised_clustering import EmbeddingModel"
   ]
  },
  {
   "cell_type": "markdown",
   "id": "confidential-nancy",
   "metadata": {},
   "source": [
    "## Data\n",
    "\n",
    "Load in the dummy-data used throughout this demonstration."
   ]
  },
  {
   "cell_type": "code",
   "execution_count": 4,
   "id": "lightweight-absolute",
   "metadata": {},
   "outputs": [],
   "source": [
    "# Consider only the profiles scraped from LinkedIn\n",
    "DATA_PATH = Path.cwd() / 'demos/demo_data.json'\n",
    "\n",
    "# Name assigned to the clustering-model\n",
    "name = 'demo_emb_init'"
   ]
  },
  {
   "cell_type": "code",
   "execution_count": 5,
   "id": "christian-comedy",
   "metadata": {},
   "outputs": [],
   "source": [
    "def clean_f(x:str) -> str:\n",
    "    \"\"\"Cleaning function of the raw text.\"\"\"\n",
    "    x = x.lower()\n",
    "    return re.sub('\\W+', ' ', x).strip()"
   ]
  },
  {
   "cell_type": "code",
   "execution_count": 6,
   "id": "focused-vietnamese",
   "metadata": {},
   "outputs": [],
   "source": [
    "# Load in the data, and clean\n",
    "with open(DATA_PATH, 'r') as f:\n",
    "    data = json.load(f)"
   ]
  },
  {
   "cell_type": "code",
   "execution_count": 7,
   "id": "heavy-outline",
   "metadata": {},
   "outputs": [
    {
     "name": "stdout",
     "output_type": "stream",
     "text": [
      "Total of 4842 data samples\n",
      " --> 783 unique\n",
      "\n",
      "10 most frequent samples:\n",
      " - ku leuven (518)\n",
      " - katholieke universiteit leuven (411)\n",
      " - universiteit gent (340)\n",
      " - hogeschool gent (298)\n",
      " - vrije universiteit brussel (155)\n",
      " - vlerick business school (127)\n",
      " - université catholique de louvain (126)\n",
      " - groep t internationale hogeschool leuven (117)\n",
      " - ghent university (104)\n",
      " - universiteit antwerpen (101)\n"
     ]
    }
   ],
   "source": [
    "data_clean = [clean_f(s) for s in data]\n",
    "data_unique = sorted(set(data_clean))\n",
    "print(f\"Total of {len(data_clean)} data samples\")\n",
    "data_count = [(k, v) for k, v in sorted(Counter(data_clean).items(), key=lambda x: x[1])]\n",
    "print(f\" --> {len(data_count)} unique\")\n",
    "\n",
    "print(f\"\\n10 most frequent samples:\")\n",
    "for sample, count in list(reversed(data_count))[:10]:\n",
    "    print(f\" - {sample} ({count})\")"
   ]
  },
  {
   "cell_type": "code",
   "execution_count": 8,
   "id": "seven-illustration",
   "metadata": {},
   "outputs": [
    {
     "name": "stdout",
     "output_type": "stream",
     "text": [
      "Analyse on frequency:\n",
      " - Sample frequency >=  0  --> 100% of all samples (783 samples in total)\n",
      " - Sample frequency >= 50  -->  59% of all samples (18 samples in total)\n",
      " - Sample frequency >= 100 -->  47% of all samples (10 samples in total)\n",
      " - Sample frequency >= 150 -->  36% of all samples (5 samples in total)\n",
      " - Sample frequency >= 200 -->  32% of all samples (4 samples in total)\n",
      " - Sample frequency >= 250 -->  32% of all samples (4 samples in total)\n",
      " - Sample frequency >= 300 -->  26% of all samples (3 samples in total)\n",
      " - Sample frequency >= 350 -->  19% of all samples (2 samples in total)\n",
      " - Sample frequency >= 400 -->  19% of all samples (2 samples in total)\n",
      " - Sample frequency >= 450 -->  11% of all samples (1 samples in total)\n",
      " - Sample frequency >= 500 -->  11% of all samples (1 samples in total)\n"
     ]
    },
    {
     "data": {
      "image/png": "[encoded data removed]",
      "text/plain": [
       "<Figure size 1080x360 with 1 Axes>"
      ]
     },
     "metadata": {
      "needs_background": "light"
     },
     "output_type": "display_data"
    }
   ],
   "source": [
    "# Plot frequency of the data\n",
    "counts = sorted([x for k,x in data_count], reverse=True)\n",
    "x, y = [], []\n",
    "for i in range(1, max(counts)+10, 10):\n",
    "    x.append(i)\n",
    "    y.append(sum(c for c in counts if i <= c))\n",
    "\n",
    "print(f\"Analyse on frequency:\")\n",
    "for freq in range(0,max(counts),50):\n",
    "    print(f\" - Sample frequency >= {freq:^3d} --> {round(100*sum(c for c in counts if freq <= c)/sum(counts)):3d}% of all samples ({len([c for c in counts if freq <= c])} samples in total)\")\n",
    "\n",
    "plt.figure(figsize=(15,5))\n",
    "plt.bar(x, y, width=8)\n",
    "plt.show()"
   ]
  },
  {
   "cell_type": "markdown",
   "id": "directed-community",
   "metadata": {},
   "source": [
    "## Model\n",
    "\n",
    "Initialise the `EmbeddingModel`. This model consists of three main sub-models:\n",
    " - `encoder` to encode the raw sentences into machine-interpretable embeddings (one-hot)\n",
    " - `embedder` to embed the one-hot encoded vectors into dense embeddings\n",
    " - `clusterer` to cluster the dense embeddings and predict the best-suiting cluster\n",
    "\n",
    "### Initialise\n",
    "\n",
    "Initialise the model, by created each of its fundamental components. During this initialisation-step, you have the option to initialise the clusters yourselve (as done in this demo) or by answering a short survay of proposed clusters, done via CLI. The latter can be activated by setting `n_min_clusters` inside of `model.initialise_models` to a number larger than zero."
   ]
  },
  {
   "cell_type": "code",
   "execution_count": 9,
   "id": "chemical-dream",
   "metadata": {},
   "outputs": [],
   "source": [
    "model = EmbeddingModel(\n",
    "    name=name,\n",
    "    path_model=Path.cwd() / f'demos/models/{name}',\n",
    "    path_data=Path.cwd() / f'demos/data/{name}',\n",
    "    clean_f=clean_f,\n",
    "    vocab_size=200,\n",
    "    model_layers=(50,50,),\n",
    "    normalise=True,\n",
    "    cluster_thr=.8,\n",
    ")"
   ]
  },
  {
   "cell_type": "code",
   "execution_count": 10,
   "id": "later-sense",
   "metadata": {},
   "outputs": [
    {
     "data": {
      "image/png": "[encoded data removed]",
      "text/plain": [
       "<IPython.core.display.Image object>"
      ]
     },
     "execution_count": 10,
     "metadata": {},
     "output_type": "execute_result"
    }
   ],
   "source": [
    "# Plot the model's architecture\n",
    "tf.keras.utils.plot_model(\n",
    "        model.embedder._model, Path.cwd() / f\"demos/models/{name}/{model.embedder}.png\",\n",
    "        show_shapes=True,\n",
    ")"
   ]
  },
  {
   "cell_type": "code",
   "execution_count": 11,
   "id": "guilty-replacement",
   "metadata": {
    "scrolled": true
   },
   "outputs": [
    {
     "name": "stdout",
     "output_type": "stream",
     "text": [
      "\n",
      "\n",
      "Analysing encoder 'encoder-demo_emb_init-bpe-200'\n",
      "\n",
      "Analysing word 'ku leuven':\n",
      " --> Encoding: [39, 22]\n",
      " --> Word by word:\n",
      "     - 39: ku\n",
      "     - 22: leuven\n",
      "\n",
      "Analysing word 'katholieke universiteit leuven':\n",
      " --> Encoding: [53, 29, 22]\n",
      " --> Word by word:\n",
      "     - 53: katholieke\n",
      "     - 29: universiteit\n",
      "     - 22: leuven\n",
      "\n",
      "Analysing word 'universiteit gent':\n",
      " --> Encoding: [29, 27]\n",
      " --> Word by word:\n",
      "     - 29: universiteit\n",
      "     - 27: gent\n",
      "\n",
      "Analysing word 'hogeschool gent':\n",
      " --> Encoding: [33, 27]\n",
      " --> Word by word:\n",
      "     - 33: hogeschool\n",
      "     - 27: gent\n",
      "\n",
      "Analysing word 'vrije universiteit brussel':\n",
      " --> Encoding: [104, 29, 57]\n",
      " --> Word by word:\n",
      "     - 104: vrije\n",
      "     - 29: universiteit\n",
      "     - 57: brussel\n",
      "\n",
      "Encoding the alphabet:\n",
      " - a = [37] = a\n",
      " - b = [38] = b\n",
      " - c = [59] = c\n",
      " - d = [177, 196] = d\n",
      " - e = [173] = e\n",
      " - f = [177, 198] = f\n",
      " - g = [10] = g\n",
      " - h = [78] = h\n",
      " - i = [69] = i\n",
      " - j = [177, 199] = j\n",
      " - k = [12] = k\n",
      " - l = [7] = l\n",
      " - m = [82] = m\n",
      " - n = [177, 178] = n\n",
      " - o = [79] = o\n",
      " - p = [139] = p\n",
      " - q = [177, 200] = q\n",
      " - r = [177, 185] = r\n",
      " - s = [65] = s\n",
      " - t = [63] = t\n",
      " - u = [9] = u\n",
      " - v = [54] = v\n",
      " - w = [177, 195] = w\n",
      " - x = [177, 0] =  ⁇ \n",
      " - y = [177, 197] = y\n",
      " - z = [177, 202] = z\n",
      "\n",
      "Analyse the model's vocabulary:\n",
      " - Index   3: en\n",
      " - Index  23: sc\n",
      " - Index  43: wer\n",
      " - Index  63: t\n",
      " - Index  83: catholi\n",
      " - Index 103: vrij\n",
      " - Index 123: in\n",
      " - Index 143: solvay\n",
      " - Index 163: ugent\n",
      " - Index 183: s\n",
      "\n",
      "\n",
      "\n",
      "Creating new model...\n",
      "Model: \"embedder-demo_emb_init-200-50-50-normalised\"\n",
      "_________________________________________________________________\n",
      "Layer (type)                 Output Shape              Param #   \n",
      "=================================================================\n",
      "Input (InputLayer)           [(None, 200)]             0         \n",
      "_________________________________________________________________\n",
      "Dense-0 (Dense)              (None, 50)                10050     \n",
      "_________________________________________________________________\n",
      "Dense-output (Dense)         (None, 50)                2550      \n",
      "_________________________________________________________________\n",
      "Normalization (LayerNormaliz (None, 50)                100       \n",
      "=================================================================\n",
      "Total params: 12,700\n",
      "Trainable params: 12,700\n",
      "Non-trainable params: 0\n",
      "_________________________________________________________________\n",
      "INFO:tensorflow:Assets written to: /Users/rubenbroekx/Documents/Projects/SemiSupervisedClustering/demos/models/demo_emb_init/embedder-demo_emb_init-200-50-50-normalised/assets\n",
      "\n",
      "\n",
      "Cluster overview:\n",
      " - Total of 0 clusters\n"
     ]
    }
   ],
   "source": [
    "# Create some initial clusters\n",
    "model.initialise_models(\n",
    "    data=data,\n",
    "    reset=True,\n",
    "    n_min_clusters=0,\n",
    ")"
   ]
  },
  {
   "cell_type": "code",
   "execution_count": 12,
   "id": "lasting-maldives",
   "metadata": {},
   "outputs": [
    {
     "name": "stdout",
     "output_type": "stream",
     "text": [
      "Only 4.34% of all (cleaned) data classified\n"
     ]
    }
   ],
   "source": [
    "# Add training data manually\n",
    "model.clusterer.add_clusters({\n",
    "    'Catholic University of Leuven': ['kul', 'KU Leuven', 'katholieke universiteit leuven', 'Groep T', \"Nayer Instituut\", \"universite de louvain\"],\n",
    "    'Free University of Brussels': ['VUB', 'Brussel Universiteit', 'vrije universiteit brussel'],\n",
    "    'University of Ghent': ['Universiteit Gent', 'universite du gand', 'ugent'],\n",
    "    'University of Hasselt': ['Hasselt Universiteit', 'uhasselt'],\n",
    "    'University of Antwerp': ['UAntwerpen', 'universiteit antwerpen'],\n",
    "    'Solvay Business School': ['Solvay', 'Vlerick Brussel'],\n",
    "    'Vlerick Business School': ['Vlerick', 'Vlerick Leuven'],\n",
    "    None: ['hogeschool gent','hogeschool antwerpen','bme gent', 'syntra hasselt', 'hogeschool', 'syntra', 'kaho leuven']\n",
    "})\n",
    "print(f\"Only {round(100*len(model.clusterer.get_training_data())/len(data_unique), 2)}% of all (cleaned) data classified\")"
   ]
  },
  {
   "cell_type": "code",
   "execution_count": 13,
   "id": "mechanical-operations",
   "metadata": {},
   "outputs": [
    {
     "name": "stdout",
     "output_type": "stream",
     "text": [
      "3.07% of all (cleaned) data used for validation\n"
     ]
    }
   ],
   "source": [
    "# Add validation data manually\n",
    "model.clusterer.add_validation({\n",
    "    'Catholic University of Leuven': ['Louvain-la-Neuve', 'Groep T leuven', 'k u leuven'],\n",
    "    'Free University of Brussels': ['vub Brussel', 'VU Brussel', 'brussel'],\n",
    "    'University of Ghent': ['Université de Gand', 'rijksuniversiteit gent', 'ru gent'],\n",
    "    'University of Hasselt': ['Hasselt', 'hasselt university', 'u hasselt'],\n",
    "    'University of Antwerp': ['Universiteit van Antwerpen', 'u antwerpen', 'antwerpen'],\n",
    "    'Solvay Business School': ['Solvay brussels school', 'solvay business school vub'],\n",
    "    'Vlerick Business School': ['Vlerick business en management', 'vlerick leuven gent management school'],\n",
    "    None: ['kaho sint lieven gent','hogent','karel de grote hogeschool katholieke hogeschool antwerpen','hogere zeevaartschool antwerpen','kaho gent']\n",
    "})\n",
    "print(f\"{round(100*len(model.clusterer.get_validation_data())/len(data_unique), 2)}% of all (cleaned) data used for validation\")"
   ]
  },
  {
   "cell_type": "code",
   "execution_count": 14,
   "id": "organic-ground",
   "metadata": {
    "scrolled": true
   },
   "outputs": [
    {
     "name": "stdout",
     "output_type": "stream",
     "text": [
      "\n",
      "Validation result:\n",
      " - Accuracy: 29.17% (7/24)\n",
      " - None-cluster: 91.67% (22/24)\n",
      " - Not-None cluster: 8.33% (2/24)\n",
      " - Correct cluster (not-None): 10.53% (2/19)\n",
      " - Wrong cluster (not-None): 0.0% (0/19)\n"
     ]
    }
   ],
   "source": [
    "# Validate the non-trained model's performance\n",
    "data_temp, _ = model._transform_data(data_unique)\n",
    "model.clusterer.set_centroids(\n",
    "    items=data_temp,\n",
    "    embeddings=model.embed(data_temp),\n",
    ")\n",
    "_ = model.validate()"
   ]
  },
  {
   "cell_type": "markdown",
   "id": "exterior-report",
   "metadata": {},
   "source": [
    "## Pre-trained Embeddings\n",
    "\n",
    "Load in the model used to compute the pre-trained embeddings, and define embeddings for all of the data-points.\n",
    "\n",
    "**Note: Since the pre-trained embeddings don't have the same dimension as our model, we'll reduce their dimensionality using PCA. As a result, the average similarity between vectors likely drops significantly. Nonetheless, it should remain to be a decent starting point.**"
   ]
  },
  {
   "cell_type": "code",
   "execution_count": 15,
   "id": "improved-daniel",
   "metadata": {
    "scrolled": true
   },
   "outputs": [],
   "source": [
    "%%capture\n",
    "!pip install tensorflow_text"
   ]
  },
  {
   "cell_type": "code",
   "execution_count": 16,
   "id": "verified-final",
   "metadata": {},
   "outputs": [],
   "source": [
    "import numpy as np\n",
    "import tensorflow_hub as hub\n",
    "import tensorflow_text\n",
    "\n",
    "from tqdm import tqdm\n",
    "from sklearn.decomposition import PCA\n",
    "from sklearn.metrics.pairwise import cosine_similarity"
   ]
  },
  {
   "cell_type": "code",
   "execution_count": 17,
   "id": "drawn-copper",
   "metadata": {},
   "outputs": [],
   "source": [
    "module_url = 'https://tfhub.dev/google/universal-sentence-encoder-multilingual/3'\n",
    "model_use = hub.load(module_url)\n",
    "\n",
    "def embed_text(text):\n",
    "    return model_use(text)"
   ]
  },
  {
   "cell_type": "code",
   "execution_count": 18,
   "id": "light-theory",
   "metadata": {},
   "outputs": [
    {
     "name": "stdout",
     "output_type": "stream",
     "text": [
      "Embeddings-shape: (783, 512)\n",
      "Average similarity: 0.2575007\n"
     ]
    }
   ],
   "source": [
    "embeddings_use = np.vstack([embed_text(d) for d in data_unique])\n",
    "print(f\"Embeddings-shape:\", embeddings_use.shape)\n",
    "print(f\"Average similarity:\", np.average(cosine_similarity(embeddings_use)))"
   ]
  },
  {
   "cell_type": "code",
   "execution_count": 19,
   "id": "united-monitoring",
   "metadata": {},
   "outputs": [
    {
     "name": "stdout",
     "output_type": "stream",
     "text": [
      "Embeddings-shape: (783, 50)\n",
      "Average similarity: 0.00014448562\n"
     ]
    }
   ],
   "source": [
    "# Transform to model's output dimension (50)\n",
    "embeddings_pca = PCA(n_components=50).fit_transform(embeddings_use)\n",
    "print(f\"Embeddings-shape:\", embeddings_pca.shape)\n",
    "print(f\"Average similarity:\", np.average(cosine_similarity(embeddings_pca)))"
   ]
  },
  {
   "cell_type": "code",
   "execution_count": 20,
   "id": "animated-sword",
   "metadata": {},
   "outputs": [
    {
     "name": "stderr",
     "output_type": "stream",
     "text": [
      "Loss 0.16976: 100%|██████████| 16/16 [00:19<00:00,  1.20s/it]\n"
     ]
    },
    {
     "data": {
      "image/png": "[encoded data removed]",
      "text/plain": [
       "<Figure size 720x360 with 1 Axes>"
      ]
     },
     "metadata": {
      "needs_background": "light"
     },
     "output_type": "display_data"
    }
   ],
   "source": [
    "# Fit the pre-trained embeddings\n",
    "ITERATIONS = 16\n",
    "loss = []\n",
    "\n",
    "pbar = tqdm(total=ITERATIONS, desc=\"Loss ???\")\n",
    "try:\n",
    "    for _ in range(ITERATIONS):\n",
    "        loss.append(model.initialise_embeddings(\n",
    "            data=data_unique,\n",
    "            embeddings=embeddings_pca,\n",
    "        ))\n",
    "        pbar.set_description(f\"Loss {round(loss[-1], 5)}\")\n",
    "        pbar.update()\n",
    "finally:\n",
    "    pbar.close()\n",
    "    \n",
    "plt.figure(figsize=(10,5))\n",
    "plt.plot(loss)\n",
    "plt.grid()\n",
    "plt.show()"
   ]
  },
  {
   "cell_type": "markdown",
   "id": "dangerous-general",
   "metadata": {},
   "source": [
    "## Training\n",
    "\n",
    "Model-training is done on the labeled (supervised) data and tries to reshape the embedding-space in a meaningful way. This *reshaping* happens via a *push-pull technique*:\n",
    " - **push** This training step pushes away the samples that do not belong in the same cluster. Say for example you have the samples `KU Leuven` and `UGent`, these do not belong in the same cluster, and thus should have a low cosine-similarity.\n",
    " - **pull** This training step pulls all the samples that belong in the same cluster together. Say for example you have the samples `KU Leuven` and `KUL`, these two samples belong to the same cluster, and thus should be close to each other.\n",
    " \n",
    "Every `iteration`, one push and one pull are performed (in that order). Every `epoch`, there is the option to check new samples for which the model is uncertain about. This enables you to only annotate the most relevant samples."
   ]
  },
  {
   "cell_type": "code",
   "execution_count": 21,
   "id": "possible-phase",
   "metadata": {
    "scrolled": true
   },
   "outputs": [
    {
     "name": "stderr",
     "output_type": "stream",
     "text": [
      "\r",
      "Loss ???:   0%|          | 0/32 [00:00<?, ?it/s]"
     ]
    },
    {
     "name": "stdout",
     "output_type": "stream",
     "text": [
      "==> Running epoch 1 <==\n"
     ]
    },
    {
     "name": "stderr",
     "output_type": "stream",
     "text": [
      "Loss 0.015: 100%|██████████| 32/32 [00:29<00:00,  1.09it/s]  \n"
     ]
    },
    {
     "name": "stdout",
     "output_type": "stream",
     "text": [
      "\n",
      "Training-clustering overview:\n",
      " - Unclustered: 69.79% (559/801)\n",
      " - Largest cluster: 135\n",
      " - Average cluster: 30.25\n",
      " - Largest cluster: 9\n",
      "\n",
      "Validation result:\n",
      " - Accuracy: 83.33% (20/24)\n",
      " - None-cluster: 37.5% (9/24)\n",
      " - Not-None cluster: 62.5% (15/24)\n",
      " - Correct cluster (not-None): 78.95% (15/19)\n",
      " - Wrong cluster (not-None): 0.0% (0/19)\n"
     ]
    }
   ],
   "source": [
    "tf.get_logger().setLevel('ERROR')\n",
    "loss, loss_split = model.train(\n",
    "    data=data_clean,\n",
    "    epochs=1,\n",
    "    iterations=32,\n",
    "    n_replaces=50,\n",
    ")\n",
    "tf.get_logger().setLevel('INFO')"
   ]
  },
  {
   "cell_type": "code",
   "execution_count": 22,
   "id": "disturbed-hungarian",
   "metadata": {},
   "outputs": [
    {
     "data": {
      "image/png": "[encoded data removed]",
      "text/plain": [
       "<Figure size 720x576 with 3 Axes>"
      ]
     },
     "metadata": {
      "needs_background": "light"
     },
     "output_type": "display_data"
    }
   ],
   "source": [
    "# Plot the loss-graphs\n",
    "loss_neg, loss_pos = zip(*loss_split)\n",
    "plt.figure(figsize=(10, 8))\n",
    "ax = plt.subplot(2, 1, 1)\n",
    "plt.plot(loss)\n",
    "plt.title(\"Average loss\")\n",
    "plt.xlabel(\"Iterations\")\n",
    "plt.ylabel(\"Loss\")\n",
    "plt.grid()\n",
    "ax.xaxis.set_major_locator(MaxNLocator(integer=True))\n",
    "\n",
    "ax = plt.subplot(2, 2, 3)\n",
    "plt.plot(loss_neg)\n",
    "plt.title(\"Negative-sample loss\")\n",
    "plt.xlabel(\"Iterations\")\n",
    "plt.ylabel(\"Loss\")\n",
    "plt.grid()\n",
    "ax.xaxis.set_major_locator(MaxNLocator(integer=True))\n",
    "\n",
    "ax = plt.subplot(2, 2, 4)\n",
    "plt.plot(loss_pos)\n",
    "plt.title(\"Positive-sample loss\")\n",
    "plt.xlabel(\"Iterations\")\n",
    "plt.ylabel(\"Loss\")\n",
    "plt.grid()\n",
    "ax.xaxis.set_major_locator(MaxNLocator(integer=True))\n",
    "\n",
    "plt.tight_layout()\n",
    "_ = plt.plot()"
   ]
  },
  {
   "cell_type": "code",
   "execution_count": 23,
   "id": "fewer-alcohol",
   "metadata": {},
   "outputs": [
    {
     "name": "stdout",
     "output_type": "stream",
     "text": [
      "\n",
      "Validation result:\n",
      " - Accuracy: 83.33% (20/24)\n",
      " - None-cluster: 37.5% (9/24)\n",
      " - Not-None cluster: 62.5% (15/24)\n",
      " - Correct cluster (not-None): 78.95% (15/19)\n",
      " - Wrong cluster (not-None): 0.0% (0/19)\n",
      "\n",
      "\n",
      "Clustering results:\n",
      " - Clustering item 'louvain la neuve'\n",
      "   -->    Target-class: 'Catholic University of Leuven'\n",
      "   --> Predicted-class: 'Catholic University of Leuven'\n",
      " - Clustering item 'groep t leuven'\n",
      "   -->    Target-class: 'Catholic University of Leuven'\n",
      "   --> Predicted-class: 'Catholic University of Leuven'\n",
      " - Clustering item 'k u leuven'\n",
      "   -->    Target-class: 'Catholic University of Leuven'\n",
      "   --> Predicted-class: 'Catholic University of Leuven'\n",
      " - Clustering item 'vub brussel'\n",
      "   -->    Target-class: 'Free University of Brussels'\n",
      "   --> Predicted-class: 'Free University of Brussels'\n",
      " - Clustering item 'vu brussel'\n",
      "   -->    Target-class: 'Free University of Brussels'\n",
      "   --> Predicted-class: 'Free University of Brussels'\n",
      " - Clustering item 'brussel'\n",
      "   -->    Target-class: 'Free University of Brussels'\n",
      "   --> Predicted-class: 'Free University of Brussels'\n",
      " - Clustering item 'université de gand'\n",
      "   -->    Target-class: 'University of Ghent'\n",
      "   --> Predicted-class: 'None'\n",
      " - Clustering item 'rijksuniversiteit gent'\n",
      "   -->    Target-class: 'University of Ghent'\n",
      "   --> Predicted-class: 'University of Ghent'\n",
      " - Clustering item 'ru gent'\n",
      "   -->    Target-class: 'University of Ghent'\n",
      "   --> Predicted-class: 'None'\n",
      " - Clustering item 'hasselt'\n",
      "   -->    Target-class: 'University of Hasselt'\n",
      "   --> Predicted-class: 'None'\n",
      " - Clustering item 'hasselt university'\n",
      "   -->    Target-class: 'University of Hasselt'\n",
      "   --> Predicted-class: 'University of Hasselt'\n",
      " - Clustering item 'u hasselt'\n",
      "   -->    Target-class: 'University of Hasselt'\n",
      "   --> Predicted-class: 'University of Hasselt'\n",
      " - Clustering item 'universiteit van antwerpen'\n",
      "   -->    Target-class: 'University of Antwerp'\n",
      "   --> Predicted-class: 'University of Antwerp'\n",
      " - Clustering item 'u antwerpen'\n",
      "   -->    Target-class: 'University of Antwerp'\n",
      "   --> Predicted-class: 'University of Antwerp'\n",
      " - Clustering item 'antwerpen'\n",
      "   -->    Target-class: 'University of Antwerp'\n",
      "   --> Predicted-class: 'None'\n",
      " - Clustering item 'solvay brussels school'\n",
      "   -->    Target-class: 'Solvay Business School'\n",
      "   --> Predicted-class: 'Solvay Business School'\n",
      " - Clustering item 'solvay business school vub'\n",
      "   -->    Target-class: 'Solvay Business School'\n",
      "   --> Predicted-class: 'Solvay Business School'\n",
      " - Clustering item 'vlerick business en management'\n",
      "   -->    Target-class: 'Vlerick Business School'\n",
      "   --> Predicted-class: 'Vlerick Business School'\n",
      " - Clustering item 'vlerick leuven gent management school'\n",
      "   -->    Target-class: 'Vlerick Business School'\n",
      "   --> Predicted-class: 'Vlerick Business School'\n",
      " - Clustering item 'kaho sint lieven gent'\n",
      "   -->    Target-class: 'None'\n",
      "   --> Predicted-class: 'None'\n",
      " - Clustering item 'hogent'\n",
      "   -->    Target-class: 'None'\n",
      "   --> Predicted-class: 'None'\n",
      " - Clustering item 'karel de grote hogeschool katholieke hogeschool antwerpen'\n",
      "   -->    Target-class: 'None'\n",
      "   --> Predicted-class: 'None'\n",
      " - Clustering item 'hogere zeevaartschool antwerpen'\n",
      "   -->    Target-class: 'None'\n",
      "   --> Predicted-class: 'None'\n",
      " - Clustering item 'kaho gent'\n",
      "   -->    Target-class: 'None'\n",
      "   --> Predicted-class: 'None'\n"
     ]
    }
   ],
   "source": [
    "# Get overview of all validation predictions\n",
    "val_result = model.validate()\n",
    "\n",
    "print(f\"\\n\\nClustering results:\")\n",
    "for a,b,c in val_result:\n",
    "    print(f\" - Clustering item '{a}'\")\n",
    "    print(f\"   -->    Target-class: '{b}'\")\n",
    "    print(f\"   --> Predicted-class: '{c}'\")"
   ]
  },
  {
   "cell_type": "code",
   "execution_count": 24,
   "id": "seeing-carroll",
   "metadata": {},
   "outputs": [
    {
     "name": "stdout",
     "output_type": "stream",
     "text": [
      "Prediction cluster-distribution:\n",
      " - Average of 29.12% clustered\n",
      " - Maximum cluster-size (not-None): 132 samples\n",
      " - Average cluster-size (not-None): 33 samples\n",
      " - Minimum cluster-size (not-None): 7 samples\n",
      " - Cluster by count:\n",
      "   - None (555)\n",
      "   - Catholic University of Leuven (132)\n",
      "   - Free University of Brussels (32)\n",
      "   - University of Ghent (25)\n",
      "   - Vlerick Business School (13)\n",
      "   - University of Antwerp (10)\n",
      "   - Solvay Business School (9)\n",
      "   - University of Hasselt (7)\n"
     ]
    }
   ],
   "source": [
    "# Get ratio of data clustered\n",
    "pred = model(data_unique)\n",
    "pred_count = Counter(pred)\n",
    "print(f\"Prediction cluster-distribution:\")\n",
    "print(f\" - Average of {round(100*len([p for p in pred if p])/len(pred), 2)}% clustered\")\n",
    "print(f\" - Maximum cluster-size (not-None): {max(v for k,v in pred_count.items() if k)} samples\")\n",
    "print(f\" - Average cluster-size (not-None): {round(sum(v for k,v in pred_count.items() if k)/(len(pred_count)-1))} samples\")\n",
    "print(f\" - Minimum cluster-size (not-None): {min(v for k,v in pred_count.items() if k)} samples\")\n",
    "print(f\" - Cluster by count:\")\n",
    "for k,v in sorted(pred_count.items(), key=lambda x: -x[1]):\n",
    "    print(f\"   - {k} ({v})\")"
   ]
  },
  {
   "cell_type": "code",
   "execution_count": 26,
   "id": "prescribed-omaha",
   "metadata": {},
   "outputs": [
    {
     "name": "stdout",
     "output_type": "stream",
     "text": [
      "Prediction cluster-distribution, absolute figures:\n",
      " - Average of 60.9% clustered\n",
      " - Maximum cluster-size (not-None): 1613 samples\n",
      " - Average cluster-size (not-None): 421 samples\n",
      " - Minimum cluster-size (not-None): 70 samples\n",
      " - Cluster by count:\n",
      "   - None (1893)\n",
      "   - Catholic University of Leuven (1613)\n",
      "   - University of Ghent (556)\n",
      "   - Free University of Brussels (286)\n",
      "   - Vlerick Business School (180)\n",
      "   - University of Antwerp (148)\n",
      "   - Solvay Business School (96)\n",
      "   - University of Hasselt (70)\n"
     ]
    }
   ],
   "source": [
    "# Get ratio of data clustered\n",
    "pred = model(data)\n",
    "pred_count = Counter(pred)\n",
    "print(f\"Prediction cluster-distribution, absolute figures:\")\n",
    "print(f\" - Average of {round(100*len([p for p in pred if p])/len(pred), 2)}% clustered\")\n",
    "print(f\" - Maximum cluster-size (not-None): {max(v for k,v in pred_count.items() if k)} samples\")\n",
    "print(f\" - Average cluster-size (not-None): {round(sum(v for k,v in pred_count.items() if k)/(len(pred_count)-1))} samples\")\n",
    "print(f\" - Minimum cluster-size (not-None): {min(v for k,v in pred_count.items() if k)} samples\")\n",
    "print(f\" - Cluster by count:\")\n",
    "for k,v in sorted(pred_count.items(), key=lambda x: -x[1]):\n",
    "    print(f\"   - {k} ({v})\")"
   ]
  },
  {
   "cell_type": "markdown",
   "id": "important-screw",
   "metadata": {},
   "source": [
    "## Visualise result\n",
    "\n",
    "Visualise the embedding-space and (predicted) clusters using TensorBoard's Projector."
   ]
  },
  {
   "cell_type": "code",
   "execution_count": 25,
   "id": "wired-smell",
   "metadata": {},
   "outputs": [
    {
     "name": "stdout",
     "output_type": "stream",
     "text": [
      "Run tensorboard in terminal:\n",
      "tensorboard --logdir /Users/rubenbroekx/Documents/Projects/SemiSupervisedClustering/demos/projector/demo_emb_init\n",
      "\n",
      "Or run tensorboard in notebook:\n",
      "%load_ext tensorboard\n",
      "%tensorboard --logdir /Users/rubenbroekx/Documents/Projects/SemiSupervisedClustering/demos/projector/demo_emb_init\n"
     ]
    }
   ],
   "source": [
    "model.visualise_tensorboard(\n",
    "    data=data_unique,\n",
    "    path_projector=Path.cwd() / 'demos/projector'\n",
    ")"
   ]
  },
  {
   "cell_type": "code",
   "execution_count": null,
   "id": "convenient-regard",
   "metadata": {},
   "outputs": [],
   "source": []
  }
 ],
 "metadata": {
  "hide_input": false,
  "kernelspec": {
   "display_name": "Python 3",
   "language": "python",
   "name": "python3"
  },
  "language_info": {
   "codemirror_mode": {
    "name": "ipython",
    "version": 3
   },
   "file_extension": ".py",
   "mimetype": "text/x-python",
   "name": "python",
   "nbconvert_exporter": "python",
   "pygments_lexer": "ipython3",
   "version": "3.8.2"
  }
 },
 "nbformat": 4,
 "nbformat_minor": 5
}
