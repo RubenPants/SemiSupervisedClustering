{
 "cells": [
  {
   "cell_type": "code",
   "execution_count": 1,
   "id": "contemporary-advice",
   "metadata": {},
   "outputs": [
    {
     "name": "stdout",
     "output_type": "stream",
     "text": [
      "/Users/rubenbroekx/Documents/Projects/SemiSupervisedClustering\n"
     ]
    }
   ],
   "source": [
    "%load_ext autoreload\n",
    "%autoreload 2\n",
    "\n",
    "%cd .."
   ]
  },
  {
   "cell_type": "markdown",
   "id": "respected-recording",
   "metadata": {},
   "source": [
    "# Demo - Default Usage\n",
    "\n",
    "This demo shows the default usage of the `EmbeddingModel`, a model that creates context-less embeddings in a semi-supervised manner.\n",
    "\n",
    "The goal of this demo is to cluster Flemish universities to a suitable cluster, while discarding all other schools/universities."
   ]
  },
  {
   "cell_type": "code",
   "execution_count": 2,
   "id": "minimal-confidence",
   "metadata": {},
   "outputs": [],
   "source": [
    "import re\n",
    "import json\n",
    "import matplotlib.pyplot as plt\n",
    "import tensorflow as tf\n",
    "\n",
    "from pathlib import Path\n",
    "from collections import Counter\n",
    "from matplotlib.ticker import MaxNLocator\n",
    "\n",
    "from semi_supervised_clustering import EmbeddingModel"
   ]
  },
  {
   "cell_type": "markdown",
   "id": "confidential-nancy",
   "metadata": {},
   "source": [
    "## Data\n",
    "\n",
    "Load in the dummy-data used throughout this demonstration."
   ]
  },
  {
   "cell_type": "code",
   "execution_count": 3,
   "id": "lightweight-absolute",
   "metadata": {},
   "outputs": [],
   "source": [
    "# Consider only the profiles scraped from LinkedIn\n",
    "DATA_PATH = Path.cwd() / 'demos/demo_data.json'\n",
    "\n",
    "# Name assigned to the clustering-model\n",
    "name = 'demo_default'"
   ]
  },
  {
   "cell_type": "code",
   "execution_count": 4,
   "id": "christian-comedy",
   "metadata": {},
   "outputs": [],
   "source": [
    "def clean_f(x:str) -> str:\n",
    "    \"\"\"Cleaning function of the raw text.\"\"\"\n",
    "    x = x.lower()\n",
    "    return re.sub('\\W+', ' ', x).strip()"
   ]
  },
  {
   "cell_type": "code",
   "execution_count": 5,
   "id": "focused-vietnamese",
   "metadata": {},
   "outputs": [],
   "source": [
    "# Load in the data, and clean\n",
    "with open(DATA_PATH, 'r') as f:\n",
    "    data = json.load(f)"
   ]
  },
  {
   "cell_type": "code",
   "execution_count": 6,
   "id": "heavy-outline",
   "metadata": {},
   "outputs": [
    {
     "name": "stdout",
     "output_type": "stream",
     "text": [
      "Total of 4689 data samples\n",
      " --> 706 unique\n",
      "\n",
      "10 most frequent samples:\n",
      " - ku leuven (518)\n",
      " - katholieke universiteit leuven (411)\n",
      " - universiteit gent (340)\n",
      " - hogeschool gent (298)\n",
      " - vrije universiteit brussel (155)\n",
      " - vlerick business school (127)\n",
      " - université catholique de louvain (126)\n",
      " - groep t internationale hogeschool leuven (117)\n",
      " - ghent university (104)\n",
      " - universiteit antwerpen (101)\n"
     ]
    }
   ],
   "source": [
    "data_clean = [clean_f(s) for s in data]\n",
    "data_unique = sorted(set(data_clean))\n",
    "print(f\"Total of {len(data_clean)} data samples\")\n",
    "data_count = [(k, v) for k, v in sorted(Counter(data_clean).items(), key=lambda x: x[1])]\n",
    "print(f\" --> {len(data_count)} unique\")\n",
    "\n",
    "print(f\"\\n10 most frequent samples:\")\n",
    "for sample, count in list(reversed(data_count))[:10]:\n",
    "    print(f\" - {sample} ({count})\")"
   ]
  },
  {
   "cell_type": "code",
   "execution_count": 7,
   "id": "seven-illustration",
   "metadata": {},
   "outputs": [
    {
     "name": "stdout",
     "output_type": "stream",
     "text": [
      "Analyse on frequency:\n",
      " - Sample frequency >=  0  --> 100% of all samples (706 samples in total)\n",
      " - Sample frequency >= 50  -->  61% of all samples (18 samples in total)\n",
      " - Sample frequency >= 100 -->  49% of all samples (10 samples in total)\n",
      " - Sample frequency >= 150 -->  37% of all samples (5 samples in total)\n",
      " - Sample frequency >= 200 -->  33% of all samples (4 samples in total)\n",
      " - Sample frequency >= 250 -->  33% of all samples (4 samples in total)\n",
      " - Sample frequency >= 300 -->  27% of all samples (3 samples in total)\n",
      " - Sample frequency >= 350 -->  20% of all samples (2 samples in total)\n",
      " - Sample frequency >= 400 -->  20% of all samples (2 samples in total)\n",
      " - Sample frequency >= 450 -->  11% of all samples (1 samples in total)\n",
      " - Sample frequency >= 500 -->  11% of all samples (1 samples in total)\n"
     ]
    },
    {
     "data": {
      "image/png": "[encoded data removed]",
      "text/plain": [
       "<Figure size 1080x360 with 1 Axes>"
      ]
     },
     "metadata": {
      "needs_background": "light"
     },
     "output_type": "display_data"
    }
   ],
   "source": [
    "# Plot frequency of the data\n",
    "counts = sorted([x for k,x in data_count], reverse=True)\n",
    "x, y = [], []\n",
    "for i in range(1, max(counts)+10, 10):\n",
    "    x.append(i)\n",
    "    y.append(sum(c for c in counts if i <= c))\n",
    "\n",
    "print(f\"Analyse on frequency:\")\n",
    "for freq in range(0,max(counts),50):\n",
    "    print(f\" - Sample frequency >= {freq:^3d} --> {round(100*sum(c for c in counts if freq <= c)/sum(counts)):3d}% of all samples ({len([c for c in counts if freq <= c])} samples in total)\")\n",
    "\n",
    "plt.figure(figsize=(15,5))\n",
    "plt.bar(x, y, width=8)\n",
    "plt.show()"
   ]
  },
  {
   "cell_type": "markdown",
   "id": "directed-community",
   "metadata": {},
   "source": [
    "## Model\n",
    "\n",
    "Initialise the `EmbeddingModel`. This model consists of three main sub-models:\n",
    " - `encoder` to encode the raw sentences into machine-interpretable embeddings (multi-hot)\n",
    " - `embedder` to embed the multi-hot encoded vectors into dense embeddings\n",
    " - `clusterer` to cluster the dense embeddings and predict the best-suiting cluster\n",
    "\n",
    "### Initialise\n",
    "\n",
    "Initialise the model, by created each of its fundamental components. During this initialisation-step, you have the option to initialise the clusters yourselve (as done in this demo) or by answering a short survay of proposed clusters, done via CLI. The latter can be activated by setting `n_min_clusters` inside of `model.initialise_models` to a number larger than zero."
   ]
  },
  {
   "cell_type": "code",
   "execution_count": 8,
   "id": "chemical-dream",
   "metadata": {},
   "outputs": [],
   "source": [
    "model = EmbeddingModel(\n",
    "    name=name,\n",
    "    path_model=Path.cwd() / f'demos/models/{name}',\n",
    "    path_data=Path.cwd() / f'demos/data/{name}',\n",
    "    clean_f=clean_f,\n",
    "    vocab_size=200,\n",
    "    model_layers=(50,50,),\n",
    "    normalise=True,\n",
    "    cluster_thr=.8,\n",
    ")"
   ]
  },
  {
   "cell_type": "code",
   "execution_count": 9,
   "id": "later-sense",
   "metadata": {},
   "outputs": [
    {
     "data": {
      "image/png": "[encoded data removed]",
      "text/plain": [
       "<IPython.core.display.Image object>"
      ]
     },
     "execution_count": 9,
     "metadata": {},
     "output_type": "execute_result"
    }
   ],
   "source": [
    "# Plot the model's architecture\n",
    "tf.keras.utils.plot_model(\n",
    "        model.embedder._model, Path.cwd() / f\"demos/models/{name}/{model.embedder}.png\",\n",
    "        show_shapes=True,\n",
    ")"
   ]
  },
  {
   "cell_type": "code",
   "execution_count": 10,
   "id": "guilty-replacement",
   "metadata": {
    "scrolled": true
   },
   "outputs": [
    {
     "name": "stdout",
     "output_type": "stream",
     "text": [
      "\n",
      "\n",
      "Analysing encoder 'encoder-demo_default-bpe-200'\n",
      "\n",
      "Analysing word 'ku leuven':\n",
      " --> Encoding: [38, 21]\n",
      " --> Word by word:\n",
      "     - 38: ku\n",
      "     - 21: leuven\n",
      "\n",
      "Analysing word 'katholieke universiteit leuven':\n",
      " --> Encoding: [53, 29, 21]\n",
      " --> Word by word:\n",
      "     - 53: katholieke\n",
      "     - 29: universiteit\n",
      "     - 21: leuven\n",
      "\n",
      "Analysing word 'universiteit gent':\n",
      " --> Encoding: [29, 26]\n",
      " --> Word by word:\n",
      "     - 29: universiteit\n",
      "     - 26: gent\n",
      "\n",
      "Analysing word 'hogeschool gent':\n",
      " --> Encoding: [32, 26]\n",
      " --> Word by word:\n",
      "     - 32: hogeschool\n",
      "     - 26: gent\n",
      "\n",
      "Analysing word 'vrije universiteit brussel':\n",
      " --> Encoding: [102, 29, 57]\n",
      " --> Word by word:\n",
      "     - 102: vrije\n",
      "     - 29: universiteit\n",
      "     - 57: brussel\n",
      "\n",
      "Encoding the alphabet:\n",
      " - a = [36] = a\n",
      " - b = [42] = b\n",
      " - c = [64] = c\n",
      " - d = [177, 196] = d\n",
      " - e = [177, 176] = e\n",
      " - f = [174] = f\n",
      " - g = [12] = g\n",
      " - h = [78] = h\n",
      " - i = [141] = i\n",
      " - j = [177, 199] = j\n",
      " - k = [10] = k\n",
      " - l = [7] = l\n",
      " - m = [98] = m\n",
      " - n = [177, 178] = n\n",
      " - o = [81] = o\n",
      " - p = [142] = p\n",
      " - q = [177, 200] = q\n",
      " - r = [177, 186] = r\n",
      " - s = [65] = s\n",
      " - t = [62] = t\n",
      " - u = [9] = u\n",
      " - v = [54] = v\n",
      " - w = [177, 195] = w\n",
      " - x = [177, 0] =  ⁇ \n",
      " - y = [177, 197] = y\n",
      " - z = [177, 202] = z\n",
      "\n",
      "Analyse the model's vocabulary:\n",
      " - Index   3: en\n",
      " - Index  23: sc\n",
      " - Index  43: wer\n",
      " - Index  63: de\n",
      " - Index  83: qu\n",
      " - Index 103: te\n",
      " - Index 123: lieven\n",
      " - Index 143: brussels\n",
      " - Index 163: um\n",
      " - Index 183: u\n",
      "\n",
      "\n",
      "\n",
      "Creating new model...\n",
      "Model: \"embedder-demo_default-200-50-50-normalised\"\n",
      "_________________________________________________________________\n",
      "Layer (type)                 Output Shape              Param #   \n",
      "=================================================================\n",
      "Input (InputLayer)           [(None, 200)]             0         \n",
      "_________________________________________________________________\n",
      "Dense-0 (Dense)              (None, 50)                10050     \n",
      "_________________________________________________________________\n",
      "Dense-output (Dense)         (None, 50)                2550      \n",
      "_________________________________________________________________\n",
      "Normalization (LayerNormaliz (None, 50)                100       \n",
      "=================================================================\n",
      "Total params: 12,700\n",
      "Trainable params: 12,700\n",
      "Non-trainable params: 0\n",
      "_________________________________________________________________\n",
      "INFO:tensorflow:Assets written to: /Users/rubenbroekx/Documents/Projects/SemiSupervisedClustering/demos/models/demo_default/embedder-demo_default-200-50-50-normalised/assets\n",
      "\n",
      "\n",
      "Cluster overview:\n",
      " - Total of 0 clusters\n"
     ]
    }
   ],
   "source": [
    "# Create some initial clusters\n",
    "model.initialise_models(\n",
    "    data=data,\n",
    "    reset_encoder=True,\n",
    "    reset_embedder=True,\n",
    "    reset_clusterer=True,\n",
    "    n_min_clusters=0,\n",
    "    show_overview=True,\n",
    ")"
   ]
  },
  {
   "cell_type": "code",
   "execution_count": 11,
   "id": "lasting-maldives",
   "metadata": {},
   "outputs": [
    {
     "name": "stdout",
     "output_type": "stream",
     "text": [
      "Only 4.82% of all (cleaned) data classified\n"
     ]
    }
   ],
   "source": [
    "# Add training data manually\n",
    "model.clusterer.add_clusters({\n",
    "    'Catholic University of Leuven': ['kul', 'KU Leuven', 'katholieke universiteit leuven', 'Groep T', \"Nayer Instituut\", \"universite de louvain\"],\n",
    "    'Free University of Brussels': ['VUB', 'Brussel Universiteit', 'vrije universiteit brussel'],\n",
    "    'University of Ghent': ['Universiteit Gent', 'universite du gand', 'ugent'],\n",
    "    'University of Hasselt': ['Hasselt Universiteit', 'uhasselt'],\n",
    "    'University of Antwerp': ['UAntwerpen', 'universiteit antwerpen'],\n",
    "    'Solvay Business School': ['Solvay', 'Vlerick Brussel'],\n",
    "    'Vlerick Business School': ['Vlerick', 'Vlerick Leuven'],\n",
    "    None: ['hogeschool gent','hogeschool antwerpen','bme gent', 'syntra hasselt', 'hogeschool', 'syntra', 'kaho leuven']\n",
    "})\n",
    "print(f\"Only {round(100*len(model.clusterer.get_training_data())/len(data_unique), 2)}% of all (cleaned) data classified\")"
   ]
  },
  {
   "cell_type": "code",
   "execution_count": 12,
   "id": "mechanical-operations",
   "metadata": {},
   "outputs": [
    {
     "name": "stdout",
     "output_type": "stream",
     "text": [
      "3.4% of all (cleaned) data used for validation\n"
     ]
    }
   ],
   "source": [
    "# Add validation data manually\n",
    "model.clusterer.add_validation({\n",
    "    'Catholic University of Leuven': ['Louvain-la-Neuve', 'Groep T leuven', 'k u leuven'],\n",
    "    'Free University of Brussels': ['vub Brussel', 'VU Brussel', 'brussel'],\n",
    "    'University of Ghent': ['Université de Gand', 'rijksuniversiteit gent', 'ru gent'],\n",
    "    'University of Hasselt': ['Hasselt', 'hasselt university', 'u hasselt'],\n",
    "    'University of Antwerp': ['Universiteit van Antwerpen', 'u antwerpen', 'antwerpen'],\n",
    "    'Solvay Business School': ['Solvay brussels school', 'solvay business school vub'],\n",
    "    'Vlerick Business School': ['Vlerick business en management', 'vlerick leuven gent management school'],\n",
    "    None: ['kaho sint lieven gent','hogent','karel de grote hogeschool katholieke hogeschool antwerpen','hogere zeevaartschool antwerpen','kaho gent']\n",
    "})\n",
    "print(f\"{round(100*len(model.clusterer.get_validation_data())/len(data_unique), 2)}% of all (cleaned) data used for validation\")"
   ]
  },
  {
   "cell_type": "code",
   "execution_count": 13,
   "id": "organic-ground",
   "metadata": {},
   "outputs": [
    {
     "name": "stdout",
     "output_type": "stream",
     "text": [
      "\n",
      "Validation result:\n",
      " - Global  Accuracy: 45.83% (11/24)\n",
      " - Accuracy cluster: 31.58% (6/19)\n",
      " - Accuracy None   : 100.0% (5/5)\n",
      " - Number of predicted cluster: 25.0% (6/24)\n",
      " - Number of predicted None   : 75.0% (18/24)\n"
     ]
    }
   ],
   "source": [
    "# Validate the non-trained model's performance\n",
    "model.clusterer.set_centroids(\n",
    "    embedding_f=model.embed,\n",
    ")\n",
    "_ = model.validate(\n",
    "    print_result=True,\n",
    ")"
   ]
  },
  {
   "cell_type": "markdown",
   "id": "dangerous-general",
   "metadata": {},
   "source": [
    "## Training\n",
    "\n",
    "Model-training is done on the labeled (supervised) data and tries to reshape the embedding-space in a meaningful way. This *reshaping* happens via a *push-pull technique*:\n",
    " - **push** This training step pushes away the samples that do not belong in the same cluster. Say for example you have the samples `KU Leuven` and `UGent`, these do not belong in the same cluster, and thus should have a low cosine-similarity.\n",
    " - **pull** This training step pulls all the samples that belong in the same cluster together. Say for example you have the samples `KU Leuven` and `KUL`, these two samples belong to the same cluster, and thus should be close to each other.\n",
    " \n",
    "Every `iteration`, one push and one pull are performed (in that order). Every `epoch`, there is the option to check new samples for which the model is uncertain about. This enables you to only annotate the most relevant samples."
   ]
  },
  {
   "cell_type": "code",
   "execution_count": 14,
   "id": "possible-phase",
   "metadata": {
    "scrolled": true
   },
   "outputs": [
    {
     "name": "stderr",
     "output_type": "stream",
     "text": [
      "Warmup, loss 0.05822: 100%|██████████| 8/8 [00:03<00:00,  2.43it/s]\n",
      "Loss ???:   0%|          | 0/32 [00:00<?, ?it/s]"
     ]
    },
    {
     "name": "stdout",
     "output_type": "stream",
     "text": [
      "==> Running epoch 1 <==\n"
     ]
    },
    {
     "name": "stderr",
     "output_type": "stream",
     "text": [
      "Loss 0.03184: 100%|██████████| 32/32 [00:10<00:00,  3.18it/s]\n"
     ]
    },
    {
     "name": "stdout",
     "output_type": "stream",
     "text": [
      "\n",
      "Training-clustering overview:\n",
      " - Unclustered: 50.0% (362/724)\n",
      " - Largest cluster: 131\n",
      " - Average cluster: 45.25\n",
      " - Smallest cluster: 19\n",
      "\n",
      "Validation result:\n",
      " - Global  Accuracy: 100.0% (24/24)\n",
      " - Accuracy cluster: 100.0% (19/19)\n",
      " - Accuracy None   : 100.0% (5/5)\n",
      " - Number of predicted cluster: 79.17% (19/24)\n",
      " - Number of predicted None   : 20.83% (5/24)\n",
      "INFO:tensorflow:Assets written to: /Users/rubenbroekx/Documents/Projects/SemiSupervisedClustering/demos/models/demo_default/embedder-demo_default-200-50-50-normalised/assets\n"
     ]
    }
   ],
   "source": [
    "history = model.train(\n",
    "    data=data_clean,\n",
    "    epochs=1,\n",
    "    iterations=32,\n",
    "    batch_size=128,\n",
    "    n_neg=16*128,\n",
    "    n_pos=16*128,\n",
    "    show_overview=True,\n",
    "    debug=False,\n",
    ")"
   ]
  },
  {
   "cell_type": "code",
   "execution_count": 15,
   "id": "matched-structure",
   "metadata": {},
   "outputs": [
    {
     "data": {
      "image/png": "[encoded data removed]",
      "text/plain": [
       "<Figure size 720x288 with 1 Axes>"
      ]
     },
     "metadata": {
      "needs_background": "light"
     },
     "output_type": "display_data"
    }
   ],
   "source": [
    "# Plot the loss-graphs\n",
    "loss, val_loss = history['loss'], history['val_loss']\n",
    "plt.figure(figsize=(10, 4))\n",
    "plt.plot(loss, label='Loss')\n",
    "plt.plot(val_loss, label='Validation loss')\n",
    "plt.title(\"Average loss\")\n",
    "plt.xlabel(\"Iterations\")\n",
    "plt.ylabel(\"Loss\")\n",
    "plt.grid()\n",
    "plt.legend()\n",
    "plt.tight_layout()\n",
    "_ = plt.plot()"
   ]
  },
  {
   "cell_type": "code",
   "execution_count": 16,
   "id": "statistical-mumbai",
   "metadata": {},
   "outputs": [
    {
     "name": "stdout",
     "output_type": "stream",
     "text": [
      "\n",
      "Validation result:\n",
      " - Global  Accuracy: 100.0% (24/24)\n",
      " - Accuracy cluster: 100.0% (19/19)\n",
      " - Accuracy None   : 100.0% (5/5)\n",
      " - Number of predicted cluster: 79.17% (19/24)\n",
      " - Number of predicted None   : 20.83% (5/24)\n",
      "\n",
      "\n",
      "Clustering results:\n",
      " - Clustering item 'hogent'\n",
      "   -->    Target-class: 'None'\n",
      "   --> Predicted-class: 'None'\n",
      " - Clustering item 'hogere zeevaartschool antwerpen'\n",
      "   -->    Target-class: 'None'\n",
      "   --> Predicted-class: 'None'\n",
      " - Clustering item 'kaho gent'\n",
      "   -->    Target-class: 'None'\n",
      "   --> Predicted-class: 'None'\n",
      " - Clustering item 'kaho sint lieven gent'\n",
      "   -->    Target-class: 'None'\n",
      "   --> Predicted-class: 'None'\n",
      " - Clustering item 'karel de grote hogeschool katholieke hogeschool antwerpen'\n",
      "   -->    Target-class: 'None'\n",
      "   --> Predicted-class: 'None'\n",
      " - Clustering item 'groep t leuven'\n",
      "   -->    Target-class: 'Catholic University of Leuven'\n",
      "   --> Predicted-class: 'Catholic University of Leuven'\n",
      " - Clustering item 'k u leuven'\n",
      "   -->    Target-class: 'Catholic University of Leuven'\n",
      "   --> Predicted-class: 'Catholic University of Leuven'\n",
      " - Clustering item 'louvain la neuve'\n",
      "   -->    Target-class: 'Catholic University of Leuven'\n",
      "   --> Predicted-class: 'Catholic University of Leuven'\n",
      " - Clustering item 'brussel'\n",
      "   -->    Target-class: 'Free University of Brussels'\n",
      "   --> Predicted-class: 'Free University of Brussels'\n",
      " - Clustering item 'vu brussel'\n",
      "   -->    Target-class: 'Free University of Brussels'\n",
      "   --> Predicted-class: 'Free University of Brussels'\n",
      " - Clustering item 'vub brussel'\n",
      "   -->    Target-class: 'Free University of Brussels'\n",
      "   --> Predicted-class: 'Free University of Brussels'\n",
      " - Clustering item 'solvay brussels school'\n",
      "   -->    Target-class: 'Solvay Business School'\n",
      "   --> Predicted-class: 'Solvay Business School'\n",
      " - Clustering item 'solvay business school vub'\n",
      "   -->    Target-class: 'Solvay Business School'\n",
      "   --> Predicted-class: 'Solvay Business School'\n",
      " - Clustering item 'antwerpen'\n",
      "   -->    Target-class: 'University of Antwerp'\n",
      "   --> Predicted-class: 'University of Antwerp'\n",
      " - Clustering item 'u antwerpen'\n",
      "   -->    Target-class: 'University of Antwerp'\n",
      "   --> Predicted-class: 'University of Antwerp'\n",
      " - Clustering item 'universiteit van antwerpen'\n",
      "   -->    Target-class: 'University of Antwerp'\n",
      "   --> Predicted-class: 'University of Antwerp'\n",
      " - Clustering item 'rijksuniversiteit gent'\n",
      "   -->    Target-class: 'University of Ghent'\n",
      "   --> Predicted-class: 'University of Ghent'\n",
      " - Clustering item 'ru gent'\n",
      "   -->    Target-class: 'University of Ghent'\n",
      "   --> Predicted-class: 'University of Ghent'\n",
      " - Clustering item 'université de gand'\n",
      "   -->    Target-class: 'University of Ghent'\n",
      "   --> Predicted-class: 'University of Ghent'\n",
      " - Clustering item 'hasselt'\n",
      "   -->    Target-class: 'University of Hasselt'\n",
      "   --> Predicted-class: 'University of Hasselt'\n",
      " - Clustering item 'hasselt university'\n",
      "   -->    Target-class: 'University of Hasselt'\n",
      "   --> Predicted-class: 'University of Hasselt'\n",
      " - Clustering item 'u hasselt'\n",
      "   -->    Target-class: 'University of Hasselt'\n",
      "   --> Predicted-class: 'University of Hasselt'\n",
      " - Clustering item 'vlerick business en management'\n",
      "   -->    Target-class: 'Vlerick Business School'\n",
      "   --> Predicted-class: 'Vlerick Business School'\n",
      " - Clustering item 'vlerick leuven gent management school'\n",
      "   -->    Target-class: 'Vlerick Business School'\n",
      "   --> Predicted-class: 'Vlerick Business School'\n"
     ]
    }
   ],
   "source": [
    "# Get overview of all validation predictions\n",
    "val_result = model.validate(\n",
    "    print_result=True,\n",
    ")\n",
    "\n",
    "print(f\"\\n\\nClustering results:\")\n",
    "for a,b,c in val_result:\n",
    "    print(f\" - Clustering item '{a}'\")\n",
    "    print(f\"   -->    Target-class: '{b}'\")\n",
    "    print(f\"   --> Predicted-class: '{c}'\")"
   ]
  },
  {
   "cell_type": "code",
   "execution_count": 17,
   "id": "pregnant-savannah",
   "metadata": {},
   "outputs": [
    {
     "name": "stdout",
     "output_type": "stream",
     "text": [
      "Closest cluster for misclassified samples:\n"
     ]
    }
   ],
   "source": [
    "# Get closest cluster (together with cosine-similarity) for misclassified samples\n",
    "misclassified = [a for a,b,c in val_result if b != c]\n",
    "best_matches = model.get_cluster_prob(misclassified)\n",
    "\n",
    "print(f\"Closest cluster for misclassified samples:\")\n",
    "for item,(pred,certainty) in zip(misclassified, best_matches):\n",
    "    print(f\" - Clustering item '{item}'\")\n",
    "    print(f\"   -->   Closest cluster: '{pred}'\")\n",
    "    print(f\"   --> Cosine similarity: '{round(certainty,3):.3f}'\")"
   ]
  },
  {
   "cell_type": "code",
   "execution_count": 18,
   "id": "selected-water",
   "metadata": {},
   "outputs": [
    {
     "name": "stdout",
     "output_type": "stream",
     "text": [
      "Prediction cluster-distribution:\n",
      " - Average of 49.15% clustered\n",
      " - Maximum cluster-size (not-None): 128 samples\n",
      " - Average cluster-size (not-None): 50 samples\n",
      " - Minimum cluster-size (not-None): 17 samples\n",
      " - Cluster by count:\n",
      "   - None (359)\n",
      "   - Catholic University of Leuven (128)\n",
      "   - University of Antwerp (53)\n",
      "   - Free University of Brussels (50)\n",
      "   - University of Ghent (45)\n",
      "   - University of Hasselt (34)\n",
      "   - Solvay Business School (20)\n",
      "   - Vlerick Business School (17)\n"
     ]
    }
   ],
   "source": [
    "# Get ratio of data clustered\n",
    "pred = model(data_unique)\n",
    "pred_count = Counter(pred)\n",
    "print(f\"Prediction cluster-distribution:\")\n",
    "print(f\" - Average of {round(100*len([p for p in pred if p])/len(pred), 2)}% clustered\")\n",
    "print(f\" - Maximum cluster-size (not-None): {max(v for k,v in pred_count.items() if k)} samples\")\n",
    "print(f\" - Average cluster-size (not-None): {round(sum(v for k,v in pred_count.items() if k)/(len(pred_count)-1))} samples\")\n",
    "print(f\" - Minimum cluster-size (not-None): {min(v for k,v in pred_count.items() if k)} samples\")\n",
    "print(f\" - Cluster by count:\")\n",
    "for k,v in sorted(pred_count.items(), key=lambda x: -x[1]):\n",
    "    print(f\"   - {k} ({v})\")"
   ]
  },
  {
   "cell_type": "code",
   "execution_count": 19,
   "id": "rapid-tours",
   "metadata": {},
   "outputs": [
    {
     "name": "stdout",
     "output_type": "stream",
     "text": [
      "Prediction cluster-distribution, absolute figures:\n",
      " - Average of 70.63% clustered\n",
      " - Maximum cluster-size (not-None): 1644 samples\n",
      " - Average cluster-size (not-None): 473 samples\n",
      " - Minimum cluster-size (not-None): 109 samples\n",
      " - Cluster by count:\n",
      "   - Catholic University of Leuven (1644)\n",
      "   - None (1377)\n",
      "   - University of Ghent (627)\n",
      "   - Free University of Brussels (372)\n",
      "   - University of Antwerp (245)\n",
      "   - Vlerick Business School (195)\n",
      "   - University of Hasselt (120)\n",
      "   - Solvay Business School (109)\n"
     ]
    }
   ],
   "source": [
    "# Get ratio of data clustered\n",
    "pred = model(data)\n",
    "pred_count = Counter(pred)\n",
    "print(f\"Prediction cluster-distribution, absolute figures:\")\n",
    "print(f\" - Average of {round(100*len([p for p in pred if p])/len(pred), 2)}% clustered\")\n",
    "print(f\" - Maximum cluster-size (not-None): {max(v for k,v in pred_count.items() if k)} samples\")\n",
    "print(f\" - Average cluster-size (not-None): {round(sum(v for k,v in pred_count.items() if k)/(len(pred_count)-1))} samples\")\n",
    "print(f\" - Minimum cluster-size (not-None): {min(v for k,v in pred_count.items() if k)} samples\")\n",
    "print(f\" - Cluster by count:\")\n",
    "for k,v in sorted(pred_count.items(), key=lambda x: -x[1]):\n",
    "    print(f\"   - {k} ({v})\")"
   ]
  },
  {
   "cell_type": "markdown",
   "id": "occupied-command",
   "metadata": {},
   "source": [
    "## Visualise result\n",
    "\n",
    "Visualise the embedding-space and (predicted) clusters using TensorBoard's Projector."
   ]
  },
  {
   "cell_type": "code",
   "execution_count": 20,
   "id": "scheduled-freedom",
   "metadata": {},
   "outputs": [
    {
     "name": "stdout",
     "output_type": "stream",
     "text": [
      "Run tensorboard in terminal:\n",
      "tensorboard --logdir /Users/rubenbroekx/Documents/Projects/SemiSupervisedClustering/demos/projector/demo_default\n",
      "\n",
      "Or run tensorboard in notebook:\n",
      "%load_ext tensorboard\n",
      "%tensorboard --logdir /Users/rubenbroekx/Documents/Projects/SemiSupervisedClustering/demos/projector/demo_default\n"
     ]
    }
   ],
   "source": [
    "model.visualise_tensorboard(\n",
    "    data=data_unique,\n",
    "    path_projector=Path.cwd() / 'demos/projector',\n",
    "    incl_none=False,\n",
    ")"
   ]
  },
  {
   "cell_type": "markdown",
   "id": "expressed-digest",
   "metadata": {},
   "source": [
    "Another insightful visualisation is to show the softmax probabilities for each and every cluster. This can be done using the `seaborn` library."
   ]
  },
  {
   "cell_type": "code",
   "execution_count": 21,
   "id": "documentary-clerk",
   "metadata": {},
   "outputs": [
    {
     "data": {
      "image/png": "[encoded data removed]",
      "text/plain": [
       "<Figure size 360x1080 with 2 Axes>"
      ]
     },
     "metadata": {
      "needs_background": "light"
     },
     "output_type": "display_data"
    }
   ],
   "source": [
    "import seaborn as sns\n",
    "validation_data = [k for k,_ in model.clusterer.get_validation_data()]\n",
    "cluster_ids, probs = model.get_all_cluster_prob(validation_data)\n",
    "\n",
    "plt.figure(figsize=(5,15))\n",
    "sns.heatmap(probs, vmax=1, vmin=-1)\n",
    "plt.xticks(ticks=[x+.5 for x in range(7)], labels=cluster_ids, rotation=90)\n",
    "plt.yticks(ticks=[x+.5 for x in range(len(validation_data))], labels=validation_data, rotation=0)\n",
    "_ = plt.show()"
   ]
  },
  {
   "cell_type": "markdown",
   "id": "biological-wildlife",
   "metadata": {},
   "source": [
    "A last visualisation shows the similarities between the class centroids."
   ]
  },
  {
   "cell_type": "code",
   "execution_count": 22,
   "id": "apparent-burst",
   "metadata": {},
   "outputs": [
    {
     "data": {
      "image/png": "[encoded data removed]",
      "text/plain": [
       "<Figure size 432x288 with 2 Axes>"
      ]
     },
     "metadata": {
      "needs_background": "light"
     },
     "output_type": "display_data"
    }
   ],
   "source": [
    "import numpy as np\n",
    "from sklearn.metrics.pairwise import cosine_similarity\n",
    "\n",
    "# Get current centroid-state\n",
    "model.clusterer.set_centroids(embedding_f=model.embed)\n",
    "centroids = model.clusterer.get_centroids()\n",
    "labels, vectors = zip(*centroids.items())\n",
    "\n",
    "# Calculate similarities and plot\n",
    "sim = cosine_similarity(np.vstack(vectors))\n",
    "sns.heatmap(sim, xticklabels=labels, yticklabels=labels, vmax=1, vmin=-1)\n",
    "_ = plt.show()"
   ]
  },
  {
   "cell_type": "code",
   "execution_count": null,
   "id": "restricted-volunteer",
   "metadata": {},
   "outputs": [],
   "source": []
  }
 ],
 "metadata": {
  "hide_input": false,
  "kernelspec": {
   "display_name": "Python 3",
   "language": "python",
   "name": "python3"
  },
  "language_info": {
   "codemirror_mode": {
    "name": "ipython",
    "version": 3
   },
   "file_extension": ".py",
   "mimetype": "text/x-python",
   "name": "python",
   "nbconvert_exporter": "python",
   "pygments_lexer": "ipython3",
   "version": "3.8.2"
  }
 },
 "nbformat": 4,
 "nbformat_minor": 5
}
