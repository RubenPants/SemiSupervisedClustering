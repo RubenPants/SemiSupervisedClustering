{
 "cells": [
  {
   "cell_type": "code",
   "execution_count": 1,
   "id": "contemporary-advice",
   "metadata": {},
   "outputs": [],
   "source": [
    "%load_ext autoreload\n",
    "%autoreload 2"
   ]
  },
  {
   "cell_type": "code",
   "execution_count": 2,
   "id": "authorized-butter",
   "metadata": {},
   "outputs": [
    {
     "name": "stdout",
     "output_type": "stream",
     "text": [
      "/Users/rubenbroekx/Documents/Projects/SemiSupervisedClustering\n"
     ]
    }
   ],
   "source": [
    "%cd .."
   ]
  },
  {
   "cell_type": "markdown",
   "id": "respected-recording",
   "metadata": {},
   "source": [
    "# Demo - Default Usage\n",
    "\n",
    "**Demo: Explain the package, as well as this demo**"
   ]
  },
  {
   "cell_type": "code",
   "execution_count": 3,
   "id": "minimal-confidence",
   "metadata": {},
   "outputs": [],
   "source": [
    "import re\n",
    "import json\n",
    "import matplotlib.pyplot as plt\n",
    "import tensorflow as tf\n",
    "\n",
    "from glob import glob\n",
    "from tqdm import tqdm\n",
    "from pathlib import Path\n",
    "from collections import Counter\n",
    "\n",
    "from semi_supervised_clustering import EmbeddingModel"
   ]
  },
  {
   "cell_type": "markdown",
   "id": "confidential-nancy",
   "metadata": {},
   "source": [
    "## Data"
   ]
  },
  {
   "cell_type": "code",
   "execution_count": 4,
   "id": "lightweight-absolute",
   "metadata": {},
   "outputs": [],
   "source": [
    "# Consider only the profiles scraped from LinkedIn\n",
    "DATA_PATH = Path.cwd() / 'demos/demo_data.json'\n",
    "\n",
    "# Name assigned to the clustering-model\n",
    "name = 'demo_default'"
   ]
  },
  {
   "cell_type": "code",
   "execution_count": 5,
   "id": "christian-comedy",
   "metadata": {},
   "outputs": [],
   "source": [
    "def clean_f(x:str) -> str:\n",
    "    \"\"\"Cleaning function of the raw text.\"\"\"\n",
    "    x = x.lower()\n",
    "    return re.sub('\\W+', ' ', x).strip()"
   ]
  },
  {
   "cell_type": "code",
   "execution_count": 6,
   "id": "focused-vietnamese",
   "metadata": {},
   "outputs": [],
   "source": [
    "# Load in the data, and clean\n",
    "with open(DATA_PATH, 'r') as f:\n",
    "    data = json.load(f)"
   ]
  },
  {
   "cell_type": "code",
   "execution_count": 7,
   "id": "heavy-outline",
   "metadata": {},
   "outputs": [
    {
     "name": "stdout",
     "output_type": "stream",
     "text": [
      "Total of 4202 data samples\n",
      " --> 899 unique\n",
      "\n",
      "10 most frequent samples:\n",
      " - ku leuven (358)\n",
      " - katholieke universiteit leuven (290)\n",
      " - universiteit gent (263)\n",
      " - hogeschool gent (238)\n",
      " - vrije universiteit brussel (127)\n",
      " - université catholique de louvain (98)\n",
      " - universiteit antwerpen (89)\n",
      " - groep t internationale hogeschool leuven (83)\n",
      " - hogeschool antwerpen (82)\n",
      " - kuleuven (78)\n"
     ]
    }
   ],
   "source": [
    "data_clean = [clean_f(s) for s in data]\n",
    "data_unique = sorted(set(data_clean))\n",
    "print(f\"Total of {len(data_clean)} data samples\")\n",
    "data_count = [(k, v) for k, v in sorted(Counter(data_clean).items(), key=lambda x: x[1])]\n",
    "print(f\" --> {len(data_count)} unique\")\n",
    "\n",
    "print(f\"\\n10 most frequent samples:\")\n",
    "for sample, count in list(reversed(data_count))[:10]:\n",
    "    print(f\" - {sample} ({count})\")"
   ]
  },
  {
   "cell_type": "code",
   "execution_count": 8,
   "id": "seven-illustration",
   "metadata": {},
   "outputs": [
    {
     "name": "stdout",
     "output_type": "stream",
     "text": [
      "Analyse on frequency:\n",
      " - Sample frequency >=  0  --> 100% of all samples (899 samples in total)\n",
      " - Sample frequency >= 50  -->  46% of all samples (14 samples in total)\n",
      " - Sample frequency >= 100 -->  30% of all samples (5 samples in total)\n",
      " - Sample frequency >= 150 -->  27% of all samples (4 samples in total)\n",
      " - Sample frequency >= 200 -->  27% of all samples (4 samples in total)\n",
      " - Sample frequency >= 250 -->  22% of all samples (3 samples in total)\n",
      " - Sample frequency >= 300 -->   9% of all samples (1 samples in total)\n",
      " - Sample frequency >= 350 -->   9% of all samples (1 samples in total)\n"
     ]
    },
    {
     "data": {
      "image/png": "[encoded data removed]",
      "text/plain": [
       "<Figure size 1080x360 with 1 Axes>"
      ]
     },
     "metadata": {
      "needs_background": "light"
     },
     "output_type": "display_data"
    }
   ],
   "source": [
    "# Plot frequency of the data\n",
    "counts = sorted([x for k,x in data_count], reverse=True)\n",
    "x, y = [], []\n",
    "for i in range(1, max(counts)+10, 10):\n",
    "    x.append(i)\n",
    "    y.append(sum(c for c in counts if i <= c))\n",
    "\n",
    "print(f\"Analyse on frequency:\")\n",
    "for freq in range(0,max(counts),50):\n",
    "    print(f\" - Sample frequency >= {freq:^3d} --> {round(100*sum(c for c in counts if freq <= c)/sum(counts)):3d}% of all samples ({len([c for c in counts if freq <= c])} samples in total)\")\n",
    "\n",
    "plt.figure(figsize=(15,5))\n",
    "plt.bar(x, y, width=8)\n",
    "plt.show()"
   ]
  },
  {
   "cell_type": "markdown",
   "id": "directed-community",
   "metadata": {},
   "source": [
    "## Model\n",
    "\n",
    "**TODO: Say a word about the model**\n",
    "\n",
    "### Initialise\n",
    "\n",
    "**TODO: Explain model creation**"
   ]
  },
  {
   "cell_type": "code",
   "execution_count": 9,
   "id": "chemical-dream",
   "metadata": {},
   "outputs": [],
   "source": [
    "model = EmbeddingModel(\n",
    "    name=name,\n",
    "    path_model=Path.cwd() / 'demos/models/default_usage',\n",
    "    path_data=Path.cwd() / 'demos/data/default_usage',\n",
    "    clean_f=clean_f,\n",
    "    vocab_size=200,\n",
    "    model_layers=(50,50,),\n",
    "    normalise=True,\n",
    "    attention=False,\n",
    ")"
   ]
  },
  {
   "cell_type": "code",
   "execution_count": 10,
   "id": "later-sense",
   "metadata": {},
   "outputs": [
    {
     "data": {
      "image/png": "[encoded data removed]",
      "text/plain": [
       "<IPython.core.display.Image object>"
      ]
     },
     "execution_count": 10,
     "metadata": {},
     "output_type": "execute_result"
    }
   ],
   "source": [
    "# Plot the model's architecture\n",
    "tf.keras.utils.plot_model(\n",
    "        model.embedder._model, Path.cwd() / f\"demos/models/default_usage/{model.embedder}.png\",\n",
    "        show_shapes=True,\n",
    ")"
   ]
  },
  {
   "cell_type": "code",
   "execution_count": 11,
   "id": "guilty-replacement",
   "metadata": {
    "scrolled": true
   },
   "outputs": [
    {
     "name": "stdout",
     "output_type": "stream",
     "text": [
      "\n",
      "\n",
      "Analysing encoder 'encoder-demo_default-bpe-200'\n",
      "\n",
      "Analysing word 'ku leuven':\n",
      " --> Encoding: [45, 18]\n",
      " --> Word by word:\n",
      "     - 45: ku\n",
      "     - 18: leuven\n",
      "\n",
      "Analysing word 'katholieke universiteit leuven':\n",
      " --> Encoding: [58, 32, 18]\n",
      " --> Word by word:\n",
      "     - 58: katholieke\n",
      "     - 32: universiteit\n",
      "     - 18: leuven\n",
      "\n",
      "Analysing word 'universiteit gent':\n",
      " --> Encoding: [32, 26]\n",
      " --> Word by word:\n",
      "     - 32: universiteit\n",
      "     - 26: gent\n",
      "\n",
      "Analysing word 'hogeschool gent':\n",
      " --> Encoding: [34, 26]\n",
      " --> Word by word:\n",
      "     - 34: hogeschool\n",
      "     - 26: gent\n",
      "\n",
      "Analysing word 'vrije universiteit brussel':\n",
      " --> Encoding: [109, 32, 54]\n",
      " --> Word by word:\n",
      "     - 109: vrije\n",
      "     - 32: universiteit\n",
      "     - 54: brussel\n",
      "\n",
      "Encoding the alphabet:\n",
      " - a = [35] = a\n",
      " - b = [44] = b\n",
      " - c = [60] = c\n",
      " - d = [176, 193] = d\n",
      " - e = [176, 175] = e\n",
      " - f = [127] = f\n",
      " - g = [10] = g\n",
      " - h = [69] = h\n",
      " - i = [68] = i\n",
      " - j = [176, 198] = j\n",
      " - k = [9] = k\n",
      " - l = [7] = l\n",
      " - m = [61] = m\n",
      " - n = [176, 177] = n\n",
      " - o = [90] = o\n",
      " - p = [98] = p\n",
      " - q = [176, 199] = q\n",
      " - r = [176, 184] = r\n",
      " - s = [63] = s\n",
      " - t = [71] = t\n",
      " - u = [11] = u\n",
      " - v = [62] = v\n",
      " - w = [173] = w\n",
      " - x = [176, 202] = x\n",
      " - y = [176, 196] = y\n",
      " - z = [176, 201] = z\n",
      "\n",
      "Analyse the model's vocabulary:\n",
      " - Index   3: en\n",
      " - Index  23: universit\n",
      " - Index  43: sel\n",
      " - Index  63: s\n",
      " - Index  83: ch\n",
      " - Index 103: nayer\n",
      " - Index 123: université\n",
      " - Index 143: internationale\n",
      " - Index 163: campus\n",
      " - Index 183: s\n",
      "\n",
      "\n",
      "\n",
      "Creating new model...\n",
      "Model: \"embedder-demo_default-200-50-50-normalised\"\n",
      "_________________________________________________________________\n",
      "Layer (type)                 Output Shape              Param #   \n",
      "=================================================================\n",
      "Input (InputLayer)           [(None, 200)]             0         \n",
      "_________________________________________________________________\n",
      "Dense-0 (Dense)              (None, 50)                10050     \n",
      "_________________________________________________________________\n",
      "Dense-output (Dense)         (None, 50)                2550      \n",
      "_________________________________________________________________\n",
      "Normalization (LayerNormaliz (None, 50)                100       \n",
      "=================================================================\n",
      "Total params: 12,700\n",
      "Trainable params: 12,700\n",
      "Non-trainable params: 0\n",
      "_________________________________________________________________\n",
      "INFO:tensorflow:Assets written to: /Users/rubenbroekx/Documents/Projects/SemiSupervisedClustering/demos/models/default_usage/embedder-demo_default-200-50-50-normalised/assets\n",
      "\n",
      "\n",
      "Cluster overview:\n",
      " - Total of 0 clusters\n"
     ]
    }
   ],
   "source": [
    "# Create some initial clusters\n",
    "model.initialise_models(\n",
    "    data=data,\n",
    "    reset=True,\n",
    "    n_min_clusters=0,\n",
    ")"
   ]
  },
  {
   "cell_type": "code",
   "execution_count": 12,
   "id": "lasting-maldives",
   "metadata": {},
   "outputs": [],
   "source": [
    "# Add training data manually\n",
    "model.clusterer.add_clusters({\n",
    "    'Catholic University of Leuven': ['KULeuven', 'Leuven Groep T'],\n",
    "    'Free University of Brussels': ['VUB', 'Universiteit Brussel'],\n",
    "    'University of Ghent': ['Universiteit Gent'],\n",
    "    None: ['hogeschool gent','hogeschool antwerpen','bme gent']\n",
    "})"
   ]
  },
  {
   "cell_type": "code",
   "execution_count": 13,
   "id": "mechanical-operations",
   "metadata": {},
   "outputs": [],
   "source": [
    "# Add validation data manually\n",
    "model.clusterer.add_validation({\n",
    "    'Catholic University of Leuven': ['Louvain-la-Neuve', 'Groep T'],\n",
    "    'Free University of Brussels': ['Vrije Universiteit Brussel', 'VU Brussel'],\n",
    "    'University of Ghent': ['UGent', 'Université de Gand'],\n",
    "    None: ['kaho sint lieven gent','hogent']\n",
    "})"
   ]
  },
  {
   "cell_type": "code",
   "execution_count": 15,
   "id": "organic-ground",
   "metadata": {},
   "outputs": [
    {
     "name": "stdout",
     "output_type": "stream",
     "text": [
      "\n",
      "Validation result:\n",
      " - Accuracy: 25.0% (2/8)\n",
      " - Clustered: 0.0% (0/8)\n",
      " - Unclustered: 100.0% (8/8)\n",
      " - Incorrectly clustered: 0.0% (0/8)\n"
     ]
    }
   ],
   "source": [
    "# Validate the non-trained model's performance\n",
    "model.clusterer.set_centroids(\n",
    "    items=data_unique,\n",
    "    embeddings=model.embed(data_unique),\n",
    ")\n",
    "_ = model.validate()"
   ]
  },
  {
   "cell_type": "markdown",
   "id": "dangerous-general",
   "metadata": {},
   "source": [
    "## Training\n",
    "\n",
    "**TODO: Explain model  training**"
   ]
  },
  {
   "cell_type": "code",
   "execution_count": 18,
   "id": "possible-phase",
   "metadata": {
    "scrolled": true
   },
   "outputs": [
    {
     "name": "stderr",
     "output_type": "stream",
     "text": [
      "\r",
      "Loss ???:   0%|          | 0/16 [00:00<?, ?it/s]"
     ]
    },
    {
     "name": "stdout",
     "output_type": "stream",
     "text": [
      "==> Running epoch 1 <==\n"
     ]
    },
    {
     "name": "stderr",
     "output_type": "stream",
     "text": [
      "Loss 0.04892: 100%|██████████| 16/16 [00:13<00:00,  1.15it/s]\n"
     ]
    },
    {
     "name": "stdout",
     "output_type": "stream",
     "text": [
      "\n",
      "Training-clustering overview:\n",
      " - Unclustered: 81.65% (734/899)\n",
      " - Largest cluster: 145\n",
      " - Average cluster: 23.571428571428573\n",
      " - Largest cluster: 1\n",
      "\n",
      "Validation result:\n",
      " - Accuracy: 37.5% (3/8)\n",
      " - Clustered: 12.5% (1/8)\n",
      " - Unclustered: 87.5% (7/8)\n",
      " - Incorrectly clustered: 0.0% (0/8)\n",
      "\n",
      "Add to cluster? (sim: 0.9440000057220459)\n",
      " -    Item: 'denayer'\n",
      " - Cluster: 'Catholic University of Leuven'\n",
      "Add:a, Help:h, Garbage:g, Ignore:i, Add to other/new cluster:<other>\n",
      "a\n",
      " --> Added to cluster 'Catholic University of Leuven'\n",
      "\n",
      "Add to cluster? (sim: 0.5389999747276306)\n",
      " -    Item: 'katholieke hogeschool gent'\n",
      " - Cluster: 'Catholic University of Leuven'\n",
      "Add:a, Help:h, Garbage:g, Ignore:i, Add to other/new cluster:<other>\n",
      "g\n",
      " --> Added as garbage\n",
      "\n",
      "Add to cluster? (sim: 0.8980000019073486)\n",
      " -    Item: 'ka2 de ring leuven'\n",
      " - Cluster: 'Catholic University of Leuven'\n",
      "Add:a, Help:h, Garbage:g, Ignore:i, Add to other/new cluster:<other>\n",
      "g\n",
      " --> Added as garbage\n",
      "\n",
      "Add to cluster? (sim: 0.6890000104904175)\n",
      " -    Item: 'industrieel ingenieur elektro mechanica ontwerp gent'\n",
      " - Cluster: 'Catholic University of Leuven'\n",
      "Add:a, Help:h, Garbage:g, Ignore:i, Add to other/new cluster:<other>\n",
      "University of Ghent\n",
      " --> Added to cluster 'University of Ghent'\n",
      "\n",
      "Add to cluster? (sim: 0.9210000038146973)\n",
      " -    Item: 'groept t leuven'\n",
      " - Cluster: 'Catholic University of Leuven'\n",
      "Add:a, Help:h, Garbage:g, Ignore:i, Add to other/new cluster:<other>\n",
      "a\n",
      " --> Added to cluster 'Catholic University of Leuven'\n",
      "\n",
      "Add to cluster? (sim: 0.9210000038146973)\n",
      " -    Item: 'k u leuven'\n",
      " - Cluster: 'Catholic University of Leuven'\n",
      "Add:a, Help:h, Garbage:g, Ignore:i, Add to other/new cluster:<other>\n",
      "a\n",
      " --> Added to cluster 'Catholic University of Leuven'\n",
      "\n",
      "Add to cluster? (sim: 0.25699999928474426)\n",
      " -    Item: 'technofutur a gosselies mons'\n",
      " - Cluster: 'Free University of Brussels'\n",
      "Add:a, Help:h, Garbage:g, Ignore:i, Add to other/new cluster:<other>\n",
      "g\n",
      " --> Added as garbage\n",
      "\n",
      "Add to cluster? (sim: 0.6129999756813049)\n",
      " -    Item: 'kaho gent'\n",
      " - Cluster: 'University of Ghent'\n",
      "Add:a, Help:h, Garbage:g, Ignore:i, Add to other/new cluster:<other>\n",
      "g\n",
      " --> Added as garbage\n",
      "\n",
      "Add to cluster? (sim: 0.9419999718666077)\n",
      " -    Item: 'institut saint louis namur'\n",
      " - Cluster: 'Catholic University of Leuven'\n",
      "Add:a, Help:h, Garbage:g, Ignore:i, Add to other/new cluster:<other>\n",
      "g\n",
      " --> Added as garbage\n",
      "\n",
      "Add to cluster? (sim: 0.6790000200271606)\n",
      " -    Item: 'hogeschool universiteit brussel'\n",
      " - Cluster: 'Free University of Brussels'\n",
      "Add:a, Help:h, Garbage:g, Ignore:i, Add to other/new cluster:<other>\n",
      "g\n",
      " --> Added as garbage\n",
      "Skip ugent\n",
      "\n",
      "Add to cluster? (sim: 327.508)\n",
      " -    Item: 'uhasselt'\n",
      "Add:a, Help:h, Garbage:g, Ignore:i, Add to other/new cluster:<other>\n",
      "University of Hasselt\n"
     ]
    },
    {
     "name": "stderr",
     "output_type": "stream",
     "text": [
      "\r",
      "Loss ???:   0%|          | 0/16 [00:00<?, ?it/s]"
     ]
    },
    {
     "name": "stdout",
     "output_type": "stream",
     "text": [
      " --> Added to cluster 'University of Hasselt'\n",
      "\n",
      "\n",
      "Cluster overview:\n",
      " - Total of 7 clusters\n",
      " - Average number of cluster-labels: 11.43\n",
      "==> Running epoch 2 <==\n"
     ]
    },
    {
     "name": "stderr",
     "output_type": "stream",
     "text": [
      "Loss 0.04002: 100%|██████████| 16/16 [00:13<00:00,  1.16it/s]\n"
     ]
    },
    {
     "name": "stdout",
     "output_type": "stream",
     "text": [
      "\n",
      "Training-clustering overview:\n",
      " - Unclustered: 82.42% (741/899)\n",
      " - Largest cluster: 130\n",
      " - Average cluster: 22.571428571428573\n",
      " - Largest cluster: 2\n",
      "\n",
      "Validation result:\n",
      " - Accuracy: 37.5% (3/8)\n",
      " - Clustered: 12.5% (1/8)\n",
      " - Unclustered: 87.5% (7/8)\n",
      " - Incorrectly clustered: 0.0% (0/8)\n",
      "Skip kaho sint lieven gent\n",
      "\n",
      "Add to cluster? (sim: 0.8669999837875366)\n",
      " -    Item: 'thomas more ku leuven'\n",
      " - Cluster: 'Catholic University of Leuven'\n",
      "Add:a, Help:h, Garbage:g, Ignore:i, Add to other/new cluster:<other>\n",
      "a\n",
      " --> Added to cluster 'Catholic University of Leuven'\n",
      "\n",
      "Add to cluster? (sim: 0.8320000171661377)\n",
      " -    Item: 'khleuven'\n",
      " - Cluster: 'Catholic University of Leuven'\n",
      "Add:a, Help:h, Garbage:g, Ignore:i, Add to other/new cluster:<other>\n",
      "g\n",
      " --> Added as garbage\n",
      "\n",
      "Add to cluster? (sim: 0.29899999499320984)\n",
      " -    Item: 'xaverius college antwerpen'\n",
      " - Cluster: 'Solvay Business School'\n",
      "Add:a, Help:h, Garbage:g, Ignore:i, Add to other/new cluster:<other>\n",
      "g\n",
      " --> Added as garbage\n",
      "\n",
      "Add to cluster? (sim: 0.40400001406669617)\n",
      " -    Item: 'brussel'\n",
      " - Cluster: 'Free University of Brussels'\n",
      "Add:a, Help:h, Garbage:g, Ignore:i, Add to other/new cluster:<other>\n",
      "a\n",
      " --> Added to cluster 'Free University of Brussels'\n",
      "\n",
      "Add to cluster? (sim: 0.8460000157356262)\n",
      " -    Item: 'vlerick leuven gent management school'\n",
      " - Cluster: 'Catholic University of Leuven'\n",
      "Add:a, Help:h, Garbage:g, Ignore:i, Add to other/new cluster:<other>\n",
      "Vlerick Business School\n",
      " --> You're creating a new cluster 'Vlerick Business School'\n",
      " --> Continue? (Yes:y, No:<other>) : n\n",
      " --> Trying again\n",
      "\n",
      "Add to cluster? (sim: 0.8460000157356262)\n",
      " -    Item: 'vlerick leuven gent management school'\n",
      " - Cluster: 'Catholic University of Leuven'\n",
      "Add:a, Help:h, Garbage:g, Ignore:i, Add to other/new cluster:<other>\n",
      "h\n",
      " --> Listing all current clusters:\n",
      "     - Catholic University of Leuven\n",
      "     - Free University of Brussels\n",
      "     - Solvay Business School\n",
      "     - University of Antwerp\n",
      "     - University of Ghent\n",
      "     - University of Hasselt\n",
      "\n",
      "Add to cluster? (sim: 0.8460000157356262)\n",
      " -    Item: 'vlerick leuven gent management school'\n",
      " - Cluster: 'Catholic University of Leuven'\n",
      "Add:a, Help:h, Garbage:g, Ignore:i, Add to other/new cluster:<other>\n",
      "Vlerick Business School\n",
      " --> You're creating a new cluster 'Vlerick Business School'\n",
      " --> Continue? (Yes:y, No:<other>) : y\n",
      " --> Creating new cluster 'Vlerick Business School'\n",
      "\n",
      "Add to cluster? (sim: 0.3799999952316284)\n",
      " -    Item: 'vlekho brussel'\n",
      " - Cluster: 'Free University of Brussels'\n",
      "Add:a, Help:h, Garbage:g, Ignore:i, Add to other/new cluster:<other>\n",
      "g\n",
      " --> Added as garbage\n",
      "Skip vrije universiteit brussel\n",
      "\n",
      "Add to cluster? (sim: 0.5019999742507935)\n",
      " -    Item: 'w k dep de nayer'\n",
      " - Cluster: 'Catholic University of Leuven'\n",
      "Add:a, Help:h, Garbage:g, Ignore:i, Add to other/new cluster:<other>\n",
      "a\n",
      " --> Added to cluster 'Catholic University of Leuven'\n",
      "\n",
      "Add to cluster? (sim: 0.5450000166893005)\n",
      " -    Item: 'politechnique mons'\n",
      " - Cluster: 'University of Ghent'\n",
      "Add:a, Help:h, Garbage:g, Ignore:i, Add to other/new cluster:<other>\n",
      "g\n",
      " --> Added as garbage\n",
      "\n",
      "Add to cluster? (sim: 695.526)\n",
      " -    Item: 'karel de grote hogeschool katholieke hogeschool antwerpen'\n",
      "Add:a, Help:h, Garbage:g, Ignore:i, Add to other/new cluster:<other>\n",
      "g\n"
     ]
    },
    {
     "name": "stderr",
     "output_type": "stream",
     "text": [
      "\r",
      "Loss ???:   0%|          | 0/16 [00:00<?, ?it/s]"
     ]
    },
    {
     "name": "stdout",
     "output_type": "stream",
     "text": [
      " --> Added as garbage\n",
      "Skip ugent\n",
      "\n",
      "\n",
      "Cluster overview:\n",
      " - Total of 8 clusters\n",
      " - Average number of cluster-labels: 11.25\n",
      "==> Running epoch 3 <==\n"
     ]
    },
    {
     "name": "stderr",
     "output_type": "stream",
     "text": [
      "Loss 0.04481: 100%|██████████| 16/16 [00:14<00:00,  1.11it/s]\n"
     ]
    },
    {
     "name": "stdout",
     "output_type": "stream",
     "text": [
      "\n",
      "Training-clustering overview:\n",
      " - Unclustered: 78.75% (708/899)\n",
      " - Largest cluster: 158\n",
      " - Average cluster: 23.875\n",
      " - Largest cluster: 2\n",
      "\n",
      "Validation result:\n",
      " - Accuracy: 50.0% (4/8)\n",
      " - Clustered: 25.0% (2/8)\n",
      " - Unclustered: 75.0% (6/8)\n",
      " - Incorrectly clustered: 0.0% (0/8)\n",
      "\n",
      "Add to cluster? (sim: 0.9800000190734863)\n",
      " -    Item: 'groept leuven'\n",
      " - Cluster: 'Catholic University of Leuven'\n",
      "Add:a, Help:h, Garbage:g, Ignore:i, Add to other/new cluster:<other>\n",
      "a\n",
      " --> Added to cluster 'Catholic University of Leuven'\n",
      "\n",
      "Add to cluster? (sim: 0.9539999961853027)\n",
      " -    Item: 'ecole polytechnique de louvain uclouvain'\n",
      " - Cluster: 'Catholic University of Leuven'\n",
      "Add:a, Help:h, Garbage:g, Ignore:i, Add to other/new cluster:<other>\n",
      "a\n",
      " --> Added to cluster 'Catholic University of Leuven'\n",
      "\n",
      "Add to cluster? (sim: 0.9869999885559082)\n",
      " -    Item: 'ucl louvain la neuve'\n",
      " - Cluster: 'Catholic University of Leuven'\n",
      "Add:a, Help:h, Garbage:g, Ignore:i, Add to other/new cluster:<other>\n",
      "a\n",
      " --> Added to cluster 'Catholic University of Leuven'\n",
      "Skip vrije universiteit brussel\n",
      "\n",
      "Add to cluster? (sim: 0.9390000104904175)\n",
      " -    Item: 'university leuven'\n",
      " - Cluster: 'Catholic University of Leuven'\n",
      "Add:a, Help:h, Garbage:g, Ignore:i, Add to other/new cluster:<other>\n",
      "a\n",
      " --> Added to cluster 'Catholic University of Leuven'\n",
      "\n",
      "Add to cluster? (sim: 0.7269999980926514)\n",
      " -    Item: 'ichec brussels management school'\n",
      " - Cluster: 'Solvay Business School'\n",
      "Add:a, Help:h, Garbage:g, Ignore:i, Add to other/new cluster:<other>\n",
      "g\n",
      " --> Added as garbage\n",
      "\n",
      "Add to cluster? (sim: 0.5429999828338623)\n",
      " -    Item: 'universiteit antwerpen management school'\n",
      " - Cluster: 'Solvay Business School'\n",
      "Add:a, Help:h, Garbage:g, Ignore:i, Add to other/new cluster:<other>\n",
      "University of Antwerp\n",
      " --> Added to cluster 'University of Antwerp'\n",
      "Skip kaho sint lieven gent\n",
      "\n",
      "Add to cluster? (sim: 0.9539999961853027)\n",
      " -    Item: 'univ gent'\n",
      " - Cluster: 'University of Ghent'\n",
      "Add:a, Help:h, Garbage:g, Ignore:i, Add to other/new cluster:<other>\n",
      "a\n",
      " --> Added to cluster 'University of Ghent'\n",
      "\n",
      "Add to cluster? (sim: 0.2669999897480011)\n",
      " -    Item: 'kih de nayer sint kat waver'\n",
      " - Cluster: 'Free University of Brussels'\n",
      "Add:a, Help:h, Garbage:g, Ignore:i, Add to other/new cluster:<other>\n",
      "Catholic University of Leuven\n",
      " --> Added to cluster 'Catholic University of Leuven'\n",
      "\n",
      "Add to cluster? (sim: 420.295)\n",
      " -    Item: 'kiho gent'\n",
      "Add:a, Help:h, Garbage:g, Ignore:i, Add to other/new cluster:<other>\n",
      "g\n",
      " --> Added as garbage\n",
      "\n",
      "Add to cluster? (sim: 239.735)\n",
      " -    Item: 'uc leuven limburg'\n",
      "Add:a, Help:h, Garbage:g, Ignore:i, Add to other/new cluster:<other>\n",
      "g\n"
     ]
    },
    {
     "name": "stderr",
     "output_type": "stream",
     "text": [
      "\r",
      "Loss ???:   0%|          | 0/16 [00:00<?, ?it/s]"
     ]
    },
    {
     "name": "stdout",
     "output_type": "stream",
     "text": [
      " --> Added as garbage\n",
      "\n",
      "\n",
      "Cluster overview:\n",
      " - Total of 8 clusters\n",
      " - Average number of cluster-labels: 12.5\n",
      "==> Running epoch 4 <==\n"
     ]
    },
    {
     "name": "stderr",
     "output_type": "stream",
     "text": [
      "Loss 0.03935: 100%|██████████| 16/16 [00:14<00:00,  1.07it/s]\n"
     ]
    },
    {
     "name": "stdout",
     "output_type": "stream",
     "text": [
      "\n",
      "Training-clustering overview:\n",
      " - Unclustered: 76.86% (691/899)\n",
      " - Largest cluster: 168\n",
      " - Average cluster: 26.0\n",
      " - Largest cluster: 2\n",
      "\n",
      "Validation result:\n",
      " - Accuracy: 50.0% (4/8)\n",
      " - Clustered: 37.5% (3/8)\n",
      " - Unclustered: 62.5% (5/8)\n",
      " - Incorrectly clustered: 12.5% (1/8)\n",
      "\n",
      "Add to cluster? (sim: 0.8799999952316284)\n",
      " -    Item: 'royal conservatory brussels'\n",
      " - Cluster: 'Catholic University of Leuven'\n",
      "Add:a, Help:h, Garbage:g, Ignore:i, Add to other/new cluster:<other>\n",
      "g\n",
      " --> Added as garbage\n",
      "\n",
      "Add to cluster? (sim: 0.2770000100135803)\n",
      " -    Item: 'cvo step hasselt'\n",
      " - Cluster: 'University of Hasselt'\n",
      "Add:a, Help:h, Garbage:g, Ignore:i, Add to other/new cluster:<other>\n",
      "g\n",
      " --> Added as garbage\n",
      "Skip vrije universiteit brussel\n",
      "Skip kaho sint lieven gent\n",
      "\n",
      "Add to cluster? (sim: 0.5889999866485596)\n",
      " -    Item: 'syntra brussel'\n",
      " - Cluster: 'Free University of Brussels'\n",
      "Add:a, Help:h, Garbage:g, Ignore:i, Add to other/new cluster:<other>\n",
      "g\n",
      " --> Added as garbage\n",
      "\n",
      "Add to cluster? (sim: 0.7300000190734863)\n",
      " -    Item: 'kih de nayer mechelen geel'\n",
      " - Cluster: 'University of Ghent'\n",
      "Add:a, Help:h, Garbage:g, Ignore:i, Add to other/new cluster:<other>\n",
      "g\n",
      " --> Added as garbage\n",
      "\n",
      "Add to cluster? (sim: 0.23600000143051147)\n",
      " -    Item: 'polyrechnique de mons'\n",
      " - Cluster: 'Free University of Brussels'\n",
      "Add:a, Help:h, Garbage:g, Ignore:i, Add to other/new cluster:<other>\n",
      "g\n",
      " --> Added as garbage\n",
      "Skip hogent\n",
      "\n",
      "Add to cluster? (sim: 0.9929999709129333)\n",
      " -    Item: 'universite catholique de louvain la neuve'\n",
      " - Cluster: 'Catholic University of Leuven'\n",
      "Add:a, Help:h, Garbage:g, Ignore:i, Add to other/new cluster:<other>\n",
      "a\n",
      " --> Added to cluster 'Catholic University of Leuven'\n",
      "\n",
      "Add to cluster? (sim: 0.5839999914169312)\n",
      " -    Item: 'vdab antwerpen'\n",
      " - Cluster: 'Free University of Brussels'\n",
      "Add:a, Help:h, Garbage:g, Ignore:i, Add to other/new cluster:<other>\n",
      "g\n",
      " --> Added as garbage\n",
      "\n",
      "Add to cluster? (sim: 231.558)\n",
      " -    Item: 'isic mons'\n",
      "Add:a, Help:h, Garbage:g, Ignore:i, Add to other/new cluster:<other>\n",
      "g\n",
      " --> Added as garbage\n",
      "\n",
      "Add to cluster? (sim: 192.164)\n",
      " -    Item: 'helha mons'\n",
      "Add:a, Help:h, Garbage:g, Ignore:i, Add to other/new cluster:<other>\n",
      "g\n"
     ]
    },
    {
     "name": "stderr",
     "output_type": "stream",
     "text": [
      "\r",
      "Loss ???:   0%|          | 0/16 [00:00<?, ?it/s]"
     ]
    },
    {
     "name": "stdout",
     "output_type": "stream",
     "text": [
      " --> Added as garbage\n",
      "\n",
      "\n",
      "Cluster overview:\n",
      " - Total of 8 clusters\n",
      " - Average number of cluster-labels: 13.62\n",
      "==> Running epoch 5 <==\n"
     ]
    },
    {
     "name": "stderr",
     "output_type": "stream",
     "text": [
      "Loss 0.03211: 100%|██████████| 16/16 [00:15<00:00,  1.04it/s]\n"
     ]
    },
    {
     "name": "stdout",
     "output_type": "stream",
     "text": [
      "\n",
      "Training-clustering overview:\n",
      " - Unclustered: 75.19% (676/899)\n",
      " - Largest cluster: 179\n",
      " - Average cluster: 27.875\n",
      " - Largest cluster: 2\n",
      "\n",
      "Validation result:\n",
      " - Accuracy: 50.0% (4/8)\n",
      " - Clustered: 37.5% (3/8)\n",
      " - Unclustered: 62.5% (5/8)\n",
      " - Incorrectly clustered: 12.5% (1/8)\n"
     ]
    }
   ],
   "source": [
    "tf.get_logger().setLevel('ERROR')\n",
    "model.train(\n",
    "    data=data_clean,\n",
    "    epochs=5,\n",
    "    iterations=16,\n",
    "    n_replaces=20,\n",
    ")"
   ]
  },
  {
   "cell_type": "code",
   "execution_count": 19,
   "id": "mobile-occurrence",
   "metadata": {},
   "outputs": [
    {
     "name": "stdout",
     "output_type": "stream",
     "text": [
      "\n",
      "Validation result:\n",
      " - Accuracy: 50.0% (4/8)\n",
      " - Clustered: 37.5% (3/8)\n",
      " - Unclustered: 62.5% (5/8)\n",
      " - Incorrectly clustered: 12.5% (1/8)\n"
     ]
    },
    {
     "data": {
      "text/plain": [
       "[('louvain la neuve',\n",
       "  'Catholic University of Leuven',\n",
       "  'Catholic University of Leuven'),\n",
       " ('groep t', 'Catholic University of Leuven', 'Catholic University of Leuven'),\n",
       " ('vrije universiteit brussel', 'Free University of Brussels', None),\n",
       " ('vu brussel', 'Free University of Brussels', None),\n",
       " ('ugent', 'University of Ghent', None),\n",
       " ('université de gand',\n",
       "  'University of Ghent',\n",
       "  'Catholic University of Leuven'),\n",
       " ('kaho sint lieven gent', None, None),\n",
       " ('hogent', None, None)]"
      ]
     },
     "execution_count": 19,
     "metadata": {},
     "output_type": "execute_result"
    }
   ],
   "source": [
    "model.validate()"
   ]
  },
  {
   "cell_type": "markdown",
   "id": "chubby-north",
   "metadata": {},
   "source": [
    "## Visualise result\n",
    "\n",
    "**TODO: Explain**"
   ]
  },
  {
   "cell_type": "code",
   "execution_count": 47,
   "id": "tracked-selection",
   "metadata": {},
   "outputs": [
    {
     "name": "stdout",
     "output_type": "stream",
     "text": [
      "Run tensorboard in terminal:\n",
      "tensorboard --logdir /Users/rubenbroekx/Documents/Projects/SemiSupervisedClustering/demos/projector/default_usage/demo_default\n",
      "\n",
      "Or run tensorboard in notebook:\n",
      "%load_ext tensorboard\n",
      "%tensorboard --logdir /Users/rubenbroekx/Documents/Projects/SemiSupervisedClustering/demos/projector/default_usage/demo_default\n"
     ]
    }
   ],
   "source": [
    "model.visualise_tensorboard(\n",
    "    data=data_unique,\n",
    "    path_projector=Path.cwd() / 'demos/projector/default_usage'\n",
    ")"
   ]
  },
  {
   "cell_type": "code",
   "execution_count": null,
   "id": "convenient-regard",
   "metadata": {},
   "outputs": [],
   "source": []
  }
 ],
 "metadata": {
  "hide_input": false,
  "kernelspec": {
   "display_name": "Python 3",
   "language": "python",
   "name": "python3"
  },
  "language_info": {
   "codemirror_mode": {
    "name": "ipython",
    "version": 3
   },
   "file_extension": ".py",
   "mimetype": "text/x-python",
   "name": "python",
   "nbconvert_exporter": "python",
   "pygments_lexer": "ipython3",
   "version": "3.8.2"
  }
 },
 "nbformat": 4,
 "nbformat_minor": 5
}
