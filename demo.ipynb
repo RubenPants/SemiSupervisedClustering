{
 "cells": [
  {
   "cell_type": "code",
   "execution_count": 1,
   "metadata": {},
   "outputs": [],
   "source": [
    "%load_ext autoreload\n",
    "%autoreload 2"
   ]
  },
  {
   "cell_type": "code",
   "execution_count": 2,
   "metadata": {},
   "outputs": [],
   "source": [
    "%load_ext autotime"
   ]
  },
  {
   "cell_type": "markdown",
   "metadata": {},
   "source": [
    "# Wikipedia Extractor - Example\n",
    "\n",
    "This Jupyter notebook shows a walkthrough of potential usages for the library. This library exploits the knowledge of Wikipedia and fetches only the information needed, reducing as much overhead as possible."
   ]
  },
  {
   "cell_type": "code",
   "execution_count": 3,
   "metadata": {},
   "outputs": [
    {
     "name": "stdout",
     "output_type": "stream",
     "text": [
      "time: 107 ms\n"
     ]
    }
   ],
   "source": [
    "import wiki_extract"
   ]
  },
  {
   "cell_type": "markdown",
   "metadata": {},
   "source": [
    "It is possible to change language via `wiki_extract.set_lang(<prefix>)` (note: NER only supported for '*en*' and '*nl*')."
   ]
  },
  {
   "cell_type": "code",
   "execution_count": 4,
   "metadata": {},
   "outputs": [
    {
     "name": "stdout",
     "output_type": "stream",
     "text": [
      "time: 453 µs\n"
     ]
    }
   ],
   "source": [
    "wiki_extract.set_lang('en')  # Default language is 'en'"
   ]
  },
  {
   "cell_type": "markdown",
   "metadata": {},
   "source": [
    "If page is not found (*Trump*) it autocorrects automatically to most suitable page (*Donald Trump*). This can be turned off via the Boolean argument `autocorrect` in `wiki_extract.get()`."
   ]
  },
  {
   "cell_type": "code",
   "execution_count": 5,
   "metadata": {},
   "outputs": [
    {
     "name": "stderr",
     "output_type": "stream",
     "text": [
      "/Users/rubenbroekx/Documents/Projects/wikipedia-extractor/wiki_extract/extractor.py:197: UserWarning: DisambiguationError, substituted 'Trump' for 'Donald Trump'\n",
      "  warnings.warn(f\"DisambiguationError, substituted '{self.title}' for '{e.options[0]}'\")\n"
     ]
    },
    {
     "data": {
      "text/plain": [
       "{'page': <WikipediaPage 'Donald Trump'>, 'title': 'Donald Trump'}"
      ]
     },
     "execution_count": 5,
     "metadata": {},
     "output_type": "execute_result"
    },
    {
     "name": "stdout",
     "output_type": "stream",
     "text": [
      "time: 2.54 s\n"
     ]
    }
   ],
   "source": [
    "wiki_extract.get(query='Trump')"
   ]
  },
  {
   "cell_type": "markdown",
   "metadata": {},
   "source": [
    "Results are cached, hence, second time it doesn't take as long."
   ]
  },
  {
   "cell_type": "code",
   "execution_count": 6,
   "metadata": {},
   "outputs": [
    {
     "name": "stdout",
     "output_type": "stream",
     "text": [
      "time: 387 ms\n"
     ]
    }
   ],
   "source": [
    "result = wiki_extract.get(query='Trump')"
   ]
  },
  {
   "cell_type": "markdown",
   "metadata": {},
   "source": [
    "## Extracted Fields\n",
    "\n",
    "Via the `wiki_extract.get` method, it is possible to fetch other interesting fields of the Wikipedia page, which can be used for other use-cases as well. The supported fields are:\n",
    " - query: Wikipedia query to be searched\n",
    " - autocorrect: If query does not match a specific page, correct it to the most similar one (if exists)\n",
    " - categories: Extract categories to which query belongs\n",
    " - content: Extract content in clean text\n",
    " - images: Extract all image-URLs present\n",
    " - infobox: Extract infobox as dictionary (if exists)\n",
    " - languages: Get language alternatives for found page\n",
    " - links: List all links present\n",
    " - ner: Performed Named-Entity Recognition on the page\n",
    " - parent_id: Get ID of parent page\n",
    " - parse_tree: Get page's parse-tree\n",
    " - raw_html: Get the raw HTML\n",
    " - rev_id: Get the page's revision ID\n",
    " - sections: List all sections present\n",
    " - short_desc: Get page's short description (if exists)\n",
    " - summary: Get page's summary (introduction, first paragraph)"
   ]
  },
  {
   "cell_type": "code",
   "execution_count": 7,
   "metadata": {},
   "outputs": [
    {
     "data": {
      "text/plain": [
       "{'page': <WikipediaPage 'Donald Trump'>,\n",
       " 'title': 'Donald Trump',\n",
       " 'infobox': {'image': 'Donald Trump official portrait.jpg',\n",
       "  'alt': 'Official White House portrait. Head shot of Trump smiling in front of the U.S. flag, wearing a dark blue suit jacket with American flag lapel pin, white shirt, and light blue necktie.',\n",
       "  'order': '45th',\n",
       "  'office': 'President of the United States',\n",
       "  'vicepresident': '[[Mike Pence]]',\n",
       "  'term_start': 'January 20, 2017',\n",
       "  'predecessor': '[[Barack Obama]]',\n",
       "  'birth_name': 'Donald John Trump',\n",
       "  'birth_date': '{{birth date and age|1946|6|14}}',\n",
       "  'birth_place': '[[Queens]], [[New York City]]',\n",
       "  'party': '[[Republican Party (United States)|Republican]] (1987–1999, 2009–2011, 2012–present)',\n",
       "  'otherparty': '{{plainlist|\\n* [[Democratic Party (United States)|Democratic]] (until 1987, 2001–2009)\\n* [[Reform Party of the United States of America|Reform]] (1999–2001)\\n* [[Independent politician|Independent]] (2011–2012)}}',\n",
       "  'spouse': '{{plainlist|\\n* |marriage|[[Ivana Zelníčková]]|April 7, 1977|March 22, 1992|end|=|divorced|\\n* |marriage|[[Marla Maples]]|December 20, 1993|June 8, 1999|end|=|divorced|\\n* |marriage|[[Melania Knauss]]|January 22, 2005|}} {{marriage|[[Ivana Zelníčková]]|April 7, 1977|March 22, 1992|end|=|divorced}} * {{marriage|[[Marla Maples]]|December 20, 1993|June 8, 1999|end|=|divorced}} * {{marriage|[[Melania Knauss]]|January 22, 2005}}',\n",
       "  'children': '{{flatlist|\\n* [[Donald Trump Jr.|Donald Jr.]]\\n* [[Ivanka Trump|Ivanka]]\\n* [[Eric Trump|Eric]]\\n* [[Tiffany Trump|Tiffany]]\\n* [[Barron Trump|Barron]]|<!-- DO NOT CHANGE this link without prior consensus; see [[Talk:Donald Trump#Current consensus]], item 10. -->|}}',\n",
       "  'parents': '{{plainlist|\\n* [[Fred Trump]]\\n* [[Mary Anne MacLeod]]}}',\n",
       "  'relatives': '[[Family of Donald Trump]]',\n",
       "  'awards': '[[List of honors and awards received by Donald Trump|List of honors and awards]]',\n",
       "  'residence': '{{plainlist|\\n* [[White House]] (official)\\n* [[Mar-a-Lago]] (personal)\\n* [[Residences of Donald Trump|Full list]]}}',\n",
       "  'alma_mater': '[[Wharton School]] ([[Bachelor of Science|BS]] in [[Economics|Econ.]])',\n",
       "  'net_worth': 'US$2.1 billion (April 2020) {{efn|name|=|Wealth}}',\n",
       "  'signature': 'Donald Trump Signature.svg',\n",
       "  'signature_alt': 'Donald J Trump stylized autograph, in ink',\n",
       "  'website': '{{plainlist|\\n* |URL|https://donaldjtrump.com|Official website|\\n* |URL|https://whitehouse.gov/administration/president-trump|White House website|}} {{URL|https://donaldjtrump.com|Official website}} * {{URL|https://whitehouse.gov/administration/president-trump|White House website}}'},\n",
       " 'shortdesc': None}"
      ]
     },
     "execution_count": 7,
     "metadata": {},
     "output_type": "execute_result"
    },
    {
     "name": "stdout",
     "output_type": "stream",
     "text": [
      "time: 1.59 s\n"
     ]
    }
   ],
   "source": [
    "wiki_extract.get(query='Trump', infobox=True, short_desc=True)"
   ]
  },
  {
   "cell_type": "markdown",
   "metadata": {},
   "source": [
    "Furthermore, each `wiki_extract.get` also returns the raw `WikipediaPage` object, which functions as a container for each of the supported properties. In other words, one can also use this to request certain properties."
   ]
  },
  {
   "cell_type": "code",
   "execution_count": 8,
   "metadata": {},
   "outputs": [
    {
     "data": {
      "text/plain": [
       "'Donald Trump'"
      ]
     },
     "execution_count": 8,
     "metadata": {},
     "output_type": "execute_result"
    },
    {
     "name": "stdout",
     "output_type": "stream",
     "text": [
      "time: 517 ms\n"
     ]
    }
   ],
   "source": [
    "result = wiki_extract.get(query='Trump')\n",
    "page = result['page']\n",
    "page.title"
   ]
  },
  {
   "cell_type": "markdown",
   "metadata": {},
   "source": [
    "It is possible to query the page directly in order to fetch new information."
   ]
  },
  {
   "cell_type": "code",
   "execution_count": 9,
   "metadata": {},
   "outputs": [
    {
     "data": {
      "text/plain": [
       "\"Donald John Trump (born June 14, 1946) is the 45th and current president of the United States. Before entering politics, he was a businessman and television personality.\\nTrump was born and raised in Queens, a borough of New York City. He attended Fordham University for two years and received a bachelor's degree in economics from the Wharton School of the University of Pennsylvania. He became president of his father's real-estate business in 1971, renamed it The Trump Organization, and expanded its operations to building or renovating skyscrapers, hotels, casinos, and golf courses. Trump later started various side ventures, mostly by licensing his name. Trump and his businesses have been involved in more than 4,000 state and federal legal actions, including six bankruptcies. He owned the Miss Universe brand of beauty pageants from 1996 to 2015. He produced and hosted The Apprentice, a reality television series, from 2003 to 2015. As of April 2020, Forbes estimated his net worth to be $2.1 billion.Trump's political positions have been described as populist, protectionist, and nationalist. He entered the 2016 presidential race as a Republican and was elected in a surprise victory over Democratic nominee Hillary Clinton, although he lost the popular vote. He became the oldest first-term U.S. president, and the first without prior military or government service. His election and policies have sparked numerous protests. Trump has made many false or misleading statements during his campaign and presidency. The statements have been documented by fact-checkers, and the media have widely described the phenomenon as unprecedented in American politics. Many of his comments and actions have been characterized as racially charged or racist.\\nDuring his presidency, Trump ordered a travel ban on citizens from several Muslim-majority countries, citing security concerns; after legal challenges, the Supreme Court upheld the policy's third revision. He enacted a tax-cut package for individuals and businesses, rescinding the individual health insurance mandate penalty. He appointed Neil Gorsuch and Brett Kavanaugh to the Supreme Court. In foreign policy, Trump has pursued an America First agenda, withdrawing the U.S. from the Trans-Pacific Partnership trade negotiations, the Paris Agreement on climate change, and the Iran nuclear deal. He imposed import tariffs which triggered a trade war with China, recognized Jerusalem as the capital of Israel, and withdrew U.S. troops from northern Syria. Trump met three times with North Korea's leader Kim Jong-un, but talks on denuclearization broke down in 2019. Trump reacted slowly to the COVID-19 pandemic; he minimized the threat, ignored or contradicted many recommendations from health officials, and promoted false information about unproven treatments and the availability of testing. He is seeking a second term as the Republican nominee in the 2020 presidential election. \\nA special counsel investigation led by Robert Mueller found that Trump and his campaign welcomed and encouraged Russian interference in the 2016 presidential election under the belief that it would be politically advantageous, but did not find sufficient evidence to press charges of criminal conspiracy or coordination with Russia. Mueller also investigated Trump for obstruction of justice, and his report neither indicted nor exonerated Trump on that offense. After Trump solicited an investigation by Ukraine of the political rival Joe Biden, the House of Representatives impeached him in December 2019 for abuse of power and obstruction of Congress. The Senate acquitted him of both charges in February 2020.\""
      ]
     },
     "execution_count": 9,
     "metadata": {},
     "output_type": "execute_result"
    },
    {
     "name": "stdout",
     "output_type": "stream",
     "text": [
      "time: 329 ms\n"
     ]
    }
   ],
   "source": [
    "page.summary"
   ]
  },
  {
   "cell_type": "code",
   "execution_count": null,
   "metadata": {},
   "outputs": [],
   "source": []
  }
 ],
 "metadata": {
  "kernelspec": {
   "display_name": "Python 3",
   "language": "python",
   "name": "python3"
  },
  "language_info": {
   "codemirror_mode": {
    "name": "ipython",
    "version": 3
   },
   "file_extension": ".py",
   "mimetype": "text/x-python",
   "name": "python",
   "nbconvert_exporter": "python",
   "pygments_lexer": "ipython3",
   "version": "3.8.5"
  }
 },
 "nbformat": 4,
 "nbformat_minor": 4
}
